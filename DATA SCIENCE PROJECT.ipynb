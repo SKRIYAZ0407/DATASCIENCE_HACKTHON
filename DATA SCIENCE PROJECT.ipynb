{
 "cells": [
  {
   "cell_type": "code",
   "execution_count": 2,
   "id": "5d8b60cc",
   "metadata": {},
   "outputs": [],
   "source": [
    "#importing necessary libraries\n",
    "import matplotlib.pyplot as plt\n",
    "import pandas as pd\n",
    "import numpy as np"
   ]
  },
  {
   "cell_type": "code",
   "execution_count": 3,
   "id": "101fa160",
   "metadata": {},
   "outputs": [],
   "source": [
    "import seaborn as sns\n",
    "import plotly.express as px\n",
    "import xlrd\n",
    "import pandas as pd\n",
    "import datetime"
   ]
  },
  {
   "cell_type": "code",
   "execution_count": 4,
   "id": "afcb542c",
   "metadata": {},
   "outputs": [],
   "source": [
    "import lifetimes\n",
    "from lifetimes import BetaGeoFitter\n",
    "from lifetimes.plotting import plot_frequency_recency_matrix\n",
    "from lifetimes.plotting import plot_probability_alive_matrix\n",
    "from lifetimes.plotting import plot_period_transactions\n",
    "from lifetimes.utils import calibration_and_holdout_data\n",
    "from lifetimes.plotting import *\n",
    "from sklearn.metrics import mean_squared_error"
   ]
  },
  {
   "cell_type": "code",
   "execution_count": 5,
   "id": "5972a14a",
   "metadata": {},
   "outputs": [],
   "source": [
    "from math import sqrt\n",
    "from lifetimes import ParetoNBDFitter\n",
    "from lifetimes.plotting import plot_history_alive\n",
    "import pickle\n",
    "from lifetimes import ModifiedBetaGeoFitter\n",
    "import warnings\n",
    "warnings.filterwarnings(\"ignore\")\n",
    "sns.set_theme(style = \"darkgrid\")"
   ]
  },
  {
   "cell_type": "code",
   "execution_count": 6,
   "id": "e9f27a91",
   "metadata": {},
   "outputs": [],
   "source": [
    "df=pd.read_excel('C:\\\\Users\\\\SHAIK.RIYAZ\\\\Downloads\\\\archive\\\\online_retail_II.xlsx', sheet_name = [\"Year 2009-2010\", \"Year 2010-2011\"])\n",
    "#https://docs.google.com/spreadsheets/d/1R9CSFy97J0RyDkyToBRYtepE7VTahhWp/edit?usp=sharing&ouid=111857456549355039372&rtpof=true&sd=true\n",
    "#the data is stored in dictionary format so we convert into the dataframe"
   ]
  },
  {
   "cell_type": "code",
   "execution_count": 154,
   "id": "16bd4a99",
   "metadata": {},
   "outputs": [
    {
     "name": "stdout",
     "output_type": "stream",
     "text": [
      "{'Year 2009-2010':        Invoice StockCode                          Description  Quantity  \\\n",
      "0       489434     85048  15CM CHRISTMAS GLASS BALL 20 LIGHTS        12   \n",
      "1       489434    79323P                   PINK CHERRY LIGHTS        12   \n",
      "2       489434    79323W                  WHITE CHERRY LIGHTS        12   \n",
      "3       489434     22041         RECORD FRAME 7\" SINGLE SIZE         48   \n",
      "4       489434     21232       STRAWBERRY CERAMIC TRINKET BOX        24   \n",
      "...        ...       ...                                  ...       ...   \n",
      "525456  538171     22271                 FELTCRAFT DOLL ROSIE         2   \n",
      "525457  538171     22750         FELTCRAFT PRINCESS LOLA DOLL         1   \n",
      "525458  538171     22751       FELTCRAFT PRINCESS OLIVIA DOLL         1   \n",
      "525459  538171     20970   PINK FLORAL FELTCRAFT SHOULDER BAG         2   \n",
      "525460  538171     21931               JUMBO STORAGE BAG SUKI         2   \n",
      "\n",
      "               InvoiceDate  Price  Customer ID         Country  \n",
      "0      2009-12-01 07:45:00   6.95      13085.0  United Kingdom  \n",
      "1      2009-12-01 07:45:00   6.75      13085.0  United Kingdom  \n",
      "2      2009-12-01 07:45:00   6.75      13085.0  United Kingdom  \n",
      "3      2009-12-01 07:45:00   2.10      13085.0  United Kingdom  \n",
      "4      2009-12-01 07:45:00   1.25      13085.0  United Kingdom  \n",
      "...                    ...    ...          ...             ...  \n",
      "525456 2010-12-09 20:01:00   2.95      17530.0  United Kingdom  \n",
      "525457 2010-12-09 20:01:00   3.75      17530.0  United Kingdom  \n",
      "525458 2010-12-09 20:01:00   3.75      17530.0  United Kingdom  \n",
      "525459 2010-12-09 20:01:00   3.75      17530.0  United Kingdom  \n",
      "525460 2010-12-09 20:01:00   1.95      17530.0  United Kingdom  \n",
      "\n",
      "[525461 rows x 8 columns], 'Year 2010-2011':        Invoice StockCode                          Description  Quantity  \\\n",
      "0       536365    85123A   WHITE HANGING HEART T-LIGHT HOLDER         6   \n",
      "1       536365     71053                  WHITE METAL LANTERN         6   \n",
      "2       536365    84406B       CREAM CUPID HEARTS COAT HANGER         8   \n",
      "3       536365    84029G  KNITTED UNION FLAG HOT WATER BOTTLE         6   \n",
      "4       536365    84029E       RED WOOLLY HOTTIE WHITE HEART.         6   \n",
      "...        ...       ...                                  ...       ...   \n",
      "541905  581587     22899         CHILDREN'S APRON DOLLY GIRL          6   \n",
      "541906  581587     23254        CHILDRENS CUTLERY DOLLY GIRL          4   \n",
      "541907  581587     23255      CHILDRENS CUTLERY CIRCUS PARADE         4   \n",
      "541908  581587     22138        BAKING SET 9 PIECE RETROSPOT          3   \n",
      "541909  581587      POST                              POSTAGE         1   \n",
      "\n",
      "               InvoiceDate  Price  Customer ID         Country  \n",
      "0      2010-12-01 08:26:00   2.55      17850.0  United Kingdom  \n",
      "1      2010-12-01 08:26:00   3.39      17850.0  United Kingdom  \n",
      "2      2010-12-01 08:26:00   2.75      17850.0  United Kingdom  \n",
      "3      2010-12-01 08:26:00   3.39      17850.0  United Kingdom  \n",
      "4      2010-12-01 08:26:00   3.39      17850.0  United Kingdom  \n",
      "...                    ...    ...          ...             ...  \n",
      "541905 2011-12-09 12:50:00   2.10      12680.0          France  \n",
      "541906 2011-12-09 12:50:00   4.15      12680.0          France  \n",
      "541907 2011-12-09 12:50:00   4.15      12680.0          France  \n",
      "541908 2011-12-09 12:50:00   4.95      12680.0          France  \n",
      "541909 2011-12-09 12:50:00  18.00      12680.0          France  \n",
      "\n",
      "[541910 rows x 8 columns]}\n"
     ]
    }
   ],
   "source": [
    "print(df)"
   ]
  },
  {
   "cell_type": "code",
   "execution_count": 155,
   "id": "c3d5da55",
   "metadata": {},
   "outputs": [],
   "source": [
    "#to retrive both the sheets of the excel file by passing into variables\n",
    "df1=df[\"Year 2009-2010\"]\n",
    "df2=df[\"Year 2010-2011\"]"
   ]
  },
  {
   "cell_type": "code",
   "execution_count": 156,
   "id": "909639d1",
   "metadata": {},
   "outputs": [],
   "source": [
    "#combining the both the sheets to convert dictionary into tablular format\n",
    "data=df1.append(df2)"
   ]
  },
  {
   "cell_type": "code",
   "execution_count": 158,
   "id": "2b800615",
   "metadata": {},
   "outputs": [],
   "source": [
    "data['Customer ID'].fillna(11111.0,inplace=True)\n",
    "data['Description'].fillna(\"not available\",inplace=True)"
   ]
  },
  {
   "cell_type": "code",
   "execution_count": 159,
   "id": "e6064336",
   "metadata": {},
   "outputs": [],
   "source": [
    "#removing the negative values(Price)\n",
    "data=data.loc[data.Price > 0,:]\n",
    "import scipy.stats as stats\n",
    "#find Q1, Q3, and interquartile range for each column to remove the outliers for good avg.\n",
    "Q1 = data['Price'].quantile(q=.25)\n",
    "Q3 = data['Price'].quantile(q=.75)\n",
    "IQR = data['Price'].apply(stats.iqr)\n",
    "\n",
    "#only keep rows in dataframe that have values within 1.5*IQR of Q1 and Q3\n",
    "data=data.loc[data.Price <= (Q3+1.5*IQR),:]"
   ]
  },
  {
   "cell_type": "code",
   "execution_count": 478,
   "id": "37965389",
   "metadata": {},
   "outputs": [
    {
     "data": {
      "text/plain": [
       "<AxesSubplot:xlabel='Price'>"
      ]
     },
     "execution_count": 478,
     "metadata": {},
     "output_type": "execute_result"
    },
    {
     "data": {
      "image/png": "[encoded data removed]",
      "text/plain": [
       "<Figure size 1152x360 with 1 Axes>"
      ]
     },
     "metadata": {},
     "output_type": "display_data"
    }
   ],
   "source": [
    "plt.figure(figsize=(16,5))\n",
    "plt.subplot(141)\n",
    "sns.boxplot(data[\"Price\"])"
   ]
  },
  {
   "cell_type": "code",
   "execution_count": 160,
   "id": "e56faf80",
   "metadata": {},
   "outputs": [],
   "source": [
    "#removing the negative values(Quantity)\n",
    "data=data.loc[data.Quantity > 0,:]\n",
    "import scipy.stats as stats\n",
    "#find Q1, Q3, and interquartile range for each column to remove the outliers for good avg.\n",
    "Q1 = data['Quantity'].quantile(q=.25)\n",
    "Q3 = data['Quantity'].quantile(q=.75)\n",
    "IQR = data['Quantity'].apply(stats.iqr)\n",
    "\n",
    "#only keep rows in dataframe that have values within 1.5*IQR of Q1 and Q3\n",
    "data=data.loc[data.Quantity <= (Q3+1.5*IQR),:]"
   ]
  },
  {
   "cell_type": "code",
   "execution_count": 479,
   "id": "de69218b",
   "metadata": {},
   "outputs": [
    {
     "data": {
      "text/plain": [
       "<AxesSubplot:xlabel='Quantity'>"
      ]
     },
     "execution_count": 479,
     "metadata": {},
     "output_type": "execute_result"
    },
    {
     "data": {
      "image/png": "[encoded data removed]",
      "text/plain": [
       "<Figure size 1152x360 with 1 Axes>"
      ]
     },
     "metadata": {},
     "output_type": "display_data"
    }
   ],
   "source": [
    "plt.figure(figsize=(16,5))\n",
    "plt.subplot(141)\n",
    "sns.boxplot(data[\"Quantity\"])"
   ]
  },
  {
   "cell_type": "code",
   "execution_count": 282,
   "id": "51358b2c",
   "metadata": {
    "scrolled": true
   },
   "outputs": [
    {
     "name": "stdout",
     "output_type": "stream",
     "text": [
      "2.060000333526933\n",
      "       Invoice StockCode                        Description  Quantity  \\\n",
      "21      489436     22107                 PIZZA PLATE IN BOX         4   \n",
      "27      489436     21333                CLASSIC WHITE FRAME         6   \n",
      "28      489436    84596F       SMALL MARSHMALLOWS PINK BOWL         8   \n",
      "29      489436    84596L     BISCUITS SMALL BOWL LIGHT BLUE         8   \n",
      "31      489437     22143  CHRISTMAS CRAFT HEART DECORATIONS         6   \n",
      "...        ...       ...                                ...       ...   \n",
      "541898  581587     22727          ALARM CLOCK BAKELIKE RED          4   \n",
      "541899  581587     22726         ALARM CLOCK BAKELIKE GREEN         4   \n",
      "541900  581587     22730         ALARM CLOCK BAKELIKE IVORY         4   \n",
      "541901  581587     22367    CHILDRENS APRON SPACEBOY DESIGN         8   \n",
      "541905  581587     22899       CHILDREN'S APRON DOLLY GIRL          6   \n",
      "\n",
      "               InvoiceDate  Price  Customer ID         Country  Total Amount  \n",
      "21     2009-12-01 09:06:00   3.75      13078.0  United Kingdom          15.0  \n",
      "27     2009-12-01 09:06:00   2.95      13078.0  United Kingdom          17.7  \n",
      "28     2009-12-01 09:06:00   1.25      13078.0  United Kingdom          10.0  \n",
      "29     2009-12-01 09:06:00   1.25      13078.0  United Kingdom          10.0  \n",
      "31     2009-12-01 09:08:00   2.10      15362.0  United Kingdom          12.6  \n",
      "...                    ...    ...          ...             ...           ...  \n",
      "541898 2011-12-09 12:50:00   3.75      12680.0          France          15.0  \n",
      "541899 2011-12-09 12:50:00   3.75      12680.0          France          15.0  \n",
      "541900 2011-12-09 12:50:00   3.75      12680.0          France          15.0  \n",
      "541901 2011-12-09 12:50:00   1.95      12680.0          France          15.6  \n",
      "541905 2011-12-09 12:50:00   2.10      12680.0          France          12.6  \n",
      "\n",
      "[536906 rows x 9 columns]\n"
     ]
    }
   ],
   "source": [
    "print(max(Q3+1.5*IQR))\n",
    "print(data)"
   ]
  },
  {
   "cell_type": "code",
   "execution_count": 162,
   "id": "a7c425a6",
   "metadata": {},
   "outputs": [
    {
     "data": {
      "text/plain": [
       "Invoice        0\n",
       "StockCode      0\n",
       "Description    0\n",
       "Quantity       0\n",
       "InvoiceDate    0\n",
       "Price          0\n",
       "Customer ID    0\n",
       "Country        0\n",
       "dtype: int64"
      ]
     },
     "execution_count": 162,
     "metadata": {},
     "output_type": "execute_result"
    }
   ],
   "source": [
    "#identifing the count of null values in each attribute\n",
    "data.isnull().sum()"
   ]
  },
  {
   "cell_type": "code",
   "execution_count": 163,
   "id": "c4143d39",
   "metadata": {},
   "outputs": [],
   "source": [
    "#removing null values in the data\n",
    "#axis=0 represents the traversing through row\n",
    "#axis=1 represents the traversing through column\n",
    "data.dropna(axis=0,subset=[\"Description\",\"Customer ID\"],inplace=True)"
   ]
  },
  {
   "cell_type": "code",
   "execution_count": 164,
   "id": "bcb4a63b",
   "metadata": {},
   "outputs": [
    {
     "data": {
      "text/plain": [
       "Invoice        0\n",
       "StockCode      0\n",
       "Description    0\n",
       "Quantity       0\n",
       "InvoiceDate    0\n",
       "Price          0\n",
       "Customer ID    0\n",
       "Country        0\n",
       "dtype: int64"
      ]
     },
     "execution_count": 164,
     "metadata": {},
     "output_type": "execute_result"
    }
   ],
   "source": [
    "data.isnull().sum()"
   ]
  },
  {
   "cell_type": "code",
   "execution_count": 165,
   "id": "08ba8d78",
   "metadata": {},
   "outputs": [],
   "source": [
    "#since we should not perform operations on original data we create a copy\n",
    "temp_data=data.copy()"
   ]
  },
  {
   "cell_type": "code",
   "execution_count": 166,
   "id": "c6c04ecb",
   "metadata": {},
   "outputs": [],
   "source": [
    "#Date Time Analysis\n",
    "# (i.e) dividing the date into different forms.\n",
    "temp_data.loc[:, \"Month\"] = data.InvoiceDate.dt.month\n",
    "temp_data.loc[:, \"Time\"] = data.InvoiceDate.dt.time\n",
    "temp_data.loc[:, \"Year\"] = data.InvoiceDate.dt.year\n",
    "temp_data.loc[:, \"Day\"] = data.InvoiceDate.dt.day\n",
    "temp_data.loc[:, \"Quarter\"] = data.InvoiceDate.dt.quarter\n",
    "temp_data.loc[:, \"Day of Week\"] = data.InvoiceDate.dt.dayofweek\n"
   ]
  },
  {
   "cell_type": "code",
   "execution_count": 167,
   "id": "eff1175d",
   "metadata": {},
   "outputs": [],
   "source": [
    "#Mapping day of week\n",
    "#inserting days of week.\n",
    "dayofweek_mapping = dict({0: \"Monday\", \n",
    "                         1: \"Tuesday\", \n",
    "                         2: \"Wednesday\" , \n",
    "                         3: \"Thursday\", \n",
    "                         4: \"Friday\", \n",
    "                         5: \"Saturday\", \n",
    "                         6: \"Sunday\"})"
   ]
  },
  {
   "cell_type": "code",
   "execution_count": 168,
   "id": "0fed890d",
   "metadata": {},
   "outputs": [],
   "source": [
    "#renaming the data values using map function\n",
    "#assigning the values of dayofweek dictionary.\n",
    "temp_data[\"Day of Week\"] = temp_data[\"Day of Week\"].map(dayofweek_mapping)"
   ]
  },
  {
   "cell_type": "code",
   "execution_count": 169,
   "id": "b4703cd7",
   "metadata": {},
   "outputs": [
    {
     "data": {
      "text/html": [
       "<div>\n",
       "<style scoped>\n",
       "    .dataframe tbody tr th:only-of-type {\n",
       "        vertical-align: middle;\n",
       "    }\n",
       "\n",
       "    .dataframe tbody tr th {\n",
       "        vertical-align: top;\n",
       "    }\n",
       "\n",
       "    .dataframe thead th {\n",
       "        text-align: right;\n",
       "    }\n",
       "</style>\n",
       "<table border=\"1\" class=\"dataframe\">\n",
       "  <thead>\n",
       "    <tr style=\"text-align: right;\">\n",
       "      <th></th>\n",
       "      <th>Invoice</th>\n",
       "      <th>StockCode</th>\n",
       "      <th>Description</th>\n",
       "      <th>Quantity</th>\n",
       "      <th>InvoiceDate</th>\n",
       "      <th>Price</th>\n",
       "      <th>Customer ID</th>\n",
       "      <th>Country</th>\n",
       "      <th>Month</th>\n",
       "      <th>Time</th>\n",
       "      <th>Year</th>\n",
       "      <th>Day</th>\n",
       "      <th>Quarter</th>\n",
       "      <th>Day of Week</th>\n",
       "    </tr>\n",
       "  </thead>\n",
       "  <tbody>\n",
       "    <tr>\n",
       "      <th>21</th>\n",
       "      <td>489436</td>\n",
       "      <td>22107</td>\n",
       "      <td>PIZZA PLATE IN BOX</td>\n",
       "      <td>4</td>\n",
       "      <td>2009-12-01 09:06:00</td>\n",
       "      <td>3.75</td>\n",
       "      <td>13078.0</td>\n",
       "      <td>United Kingdom</td>\n",
       "      <td>12</td>\n",
       "      <td>09:06:00</td>\n",
       "      <td>2009</td>\n",
       "      <td>1</td>\n",
       "      <td>4</td>\n",
       "      <td>Tuesday</td>\n",
       "    </tr>\n",
       "    <tr>\n",
       "      <th>27</th>\n",
       "      <td>489436</td>\n",
       "      <td>21333</td>\n",
       "      <td>CLASSIC WHITE FRAME</td>\n",
       "      <td>6</td>\n",
       "      <td>2009-12-01 09:06:00</td>\n",
       "      <td>2.95</td>\n",
       "      <td>13078.0</td>\n",
       "      <td>United Kingdom</td>\n",
       "      <td>12</td>\n",
       "      <td>09:06:00</td>\n",
       "      <td>2009</td>\n",
       "      <td>1</td>\n",
       "      <td>4</td>\n",
       "      <td>Tuesday</td>\n",
       "    </tr>\n",
       "    <tr>\n",
       "      <th>28</th>\n",
       "      <td>489436</td>\n",
       "      <td>84596F</td>\n",
       "      <td>SMALL MARSHMALLOWS PINK BOWL</td>\n",
       "      <td>8</td>\n",
       "      <td>2009-12-01 09:06:00</td>\n",
       "      <td>1.25</td>\n",
       "      <td>13078.0</td>\n",
       "      <td>United Kingdom</td>\n",
       "      <td>12</td>\n",
       "      <td>09:06:00</td>\n",
       "      <td>2009</td>\n",
       "      <td>1</td>\n",
       "      <td>4</td>\n",
       "      <td>Tuesday</td>\n",
       "    </tr>\n",
       "    <tr>\n",
       "      <th>29</th>\n",
       "      <td>489436</td>\n",
       "      <td>84596L</td>\n",
       "      <td>BISCUITS SMALL BOWL LIGHT BLUE</td>\n",
       "      <td>8</td>\n",
       "      <td>2009-12-01 09:06:00</td>\n",
       "      <td>1.25</td>\n",
       "      <td>13078.0</td>\n",
       "      <td>United Kingdom</td>\n",
       "      <td>12</td>\n",
       "      <td>09:06:00</td>\n",
       "      <td>2009</td>\n",
       "      <td>1</td>\n",
       "      <td>4</td>\n",
       "      <td>Tuesday</td>\n",
       "    </tr>\n",
       "    <tr>\n",
       "      <th>31</th>\n",
       "      <td>489437</td>\n",
       "      <td>22143</td>\n",
       "      <td>CHRISTMAS CRAFT HEART DECORATIONS</td>\n",
       "      <td>6</td>\n",
       "      <td>2009-12-01 09:08:00</td>\n",
       "      <td>2.10</td>\n",
       "      <td>15362.0</td>\n",
       "      <td>United Kingdom</td>\n",
       "      <td>12</td>\n",
       "      <td>09:08:00</td>\n",
       "      <td>2009</td>\n",
       "      <td>1</td>\n",
       "      <td>4</td>\n",
       "      <td>Tuesday</td>\n",
       "    </tr>\n",
       "    <tr>\n",
       "      <th>...</th>\n",
       "      <td>...</td>\n",
       "      <td>...</td>\n",
       "      <td>...</td>\n",
       "      <td>...</td>\n",
       "      <td>...</td>\n",
       "      <td>...</td>\n",
       "      <td>...</td>\n",
       "      <td>...</td>\n",
       "      <td>...</td>\n",
       "      <td>...</td>\n",
       "      <td>...</td>\n",
       "      <td>...</td>\n",
       "      <td>...</td>\n",
       "      <td>...</td>\n",
       "    </tr>\n",
       "    <tr>\n",
       "      <th>541898</th>\n",
       "      <td>581587</td>\n",
       "      <td>22727</td>\n",
       "      <td>ALARM CLOCK BAKELIKE RED</td>\n",
       "      <td>4</td>\n",
       "      <td>2011-12-09 12:50:00</td>\n",
       "      <td>3.75</td>\n",
       "      <td>12680.0</td>\n",
       "      <td>France</td>\n",
       "      <td>12</td>\n",
       "      <td>12:50:00</td>\n",
       "      <td>2011</td>\n",
       "      <td>9</td>\n",
       "      <td>4</td>\n",
       "      <td>Friday</td>\n",
       "    </tr>\n",
       "    <tr>\n",
       "      <th>541899</th>\n",
       "      <td>581587</td>\n",
       "      <td>22726</td>\n",
       "      <td>ALARM CLOCK BAKELIKE GREEN</td>\n",
       "      <td>4</td>\n",
       "      <td>2011-12-09 12:50:00</td>\n",
       "      <td>3.75</td>\n",
       "      <td>12680.0</td>\n",
       "      <td>France</td>\n",
       "      <td>12</td>\n",
       "      <td>12:50:00</td>\n",
       "      <td>2011</td>\n",
       "      <td>9</td>\n",
       "      <td>4</td>\n",
       "      <td>Friday</td>\n",
       "    </tr>\n",
       "    <tr>\n",
       "      <th>541900</th>\n",
       "      <td>581587</td>\n",
       "      <td>22730</td>\n",
       "      <td>ALARM CLOCK BAKELIKE IVORY</td>\n",
       "      <td>4</td>\n",
       "      <td>2011-12-09 12:50:00</td>\n",
       "      <td>3.75</td>\n",
       "      <td>12680.0</td>\n",
       "      <td>France</td>\n",
       "      <td>12</td>\n",
       "      <td>12:50:00</td>\n",
       "      <td>2011</td>\n",
       "      <td>9</td>\n",
       "      <td>4</td>\n",
       "      <td>Friday</td>\n",
       "    </tr>\n",
       "    <tr>\n",
       "      <th>541901</th>\n",
       "      <td>581587</td>\n",
       "      <td>22367</td>\n",
       "      <td>CHILDRENS APRON SPACEBOY DESIGN</td>\n",
       "      <td>8</td>\n",
       "      <td>2011-12-09 12:50:00</td>\n",
       "      <td>1.95</td>\n",
       "      <td>12680.0</td>\n",
       "      <td>France</td>\n",
       "      <td>12</td>\n",
       "      <td>12:50:00</td>\n",
       "      <td>2011</td>\n",
       "      <td>9</td>\n",
       "      <td>4</td>\n",
       "      <td>Friday</td>\n",
       "    </tr>\n",
       "    <tr>\n",
       "      <th>541905</th>\n",
       "      <td>581587</td>\n",
       "      <td>22899</td>\n",
       "      <td>CHILDREN'S APRON DOLLY GIRL</td>\n",
       "      <td>6</td>\n",
       "      <td>2011-12-09 12:50:00</td>\n",
       "      <td>2.10</td>\n",
       "      <td>12680.0</td>\n",
       "      <td>France</td>\n",
       "      <td>12</td>\n",
       "      <td>12:50:00</td>\n",
       "      <td>2011</td>\n",
       "      <td>9</td>\n",
       "      <td>4</td>\n",
       "      <td>Friday</td>\n",
       "    </tr>\n",
       "  </tbody>\n",
       "</table>\n",
       "<p>536906 rows × 14 columns</p>\n",
       "</div>"
      ],
      "text/plain": [
       "       Invoice StockCode                        Description  Quantity  \\\n",
       "21      489436     22107                 PIZZA PLATE IN BOX         4   \n",
       "27      489436     21333                CLASSIC WHITE FRAME         6   \n",
       "28      489436    84596F       SMALL MARSHMALLOWS PINK BOWL         8   \n",
       "29      489436    84596L     BISCUITS SMALL BOWL LIGHT BLUE         8   \n",
       "31      489437     22143  CHRISTMAS CRAFT HEART DECORATIONS         6   \n",
       "...        ...       ...                                ...       ...   \n",
       "541898  581587     22727          ALARM CLOCK BAKELIKE RED          4   \n",
       "541899  581587     22726         ALARM CLOCK BAKELIKE GREEN         4   \n",
       "541900  581587     22730         ALARM CLOCK BAKELIKE IVORY         4   \n",
       "541901  581587     22367    CHILDRENS APRON SPACEBOY DESIGN         8   \n",
       "541905  581587     22899       CHILDREN'S APRON DOLLY GIRL          6   \n",
       "\n",
       "               InvoiceDate  Price  Customer ID         Country  Month  \\\n",
       "21     2009-12-01 09:06:00   3.75      13078.0  United Kingdom     12   \n",
       "27     2009-12-01 09:06:00   2.95      13078.0  United Kingdom     12   \n",
       "28     2009-12-01 09:06:00   1.25      13078.0  United Kingdom     12   \n",
       "29     2009-12-01 09:06:00   1.25      13078.0  United Kingdom     12   \n",
       "31     2009-12-01 09:08:00   2.10      15362.0  United Kingdom     12   \n",
       "...                    ...    ...          ...             ...    ...   \n",
       "541898 2011-12-09 12:50:00   3.75      12680.0          France     12   \n",
       "541899 2011-12-09 12:50:00   3.75      12680.0          France     12   \n",
       "541900 2011-12-09 12:50:00   3.75      12680.0          France     12   \n",
       "541901 2011-12-09 12:50:00   1.95      12680.0          France     12   \n",
       "541905 2011-12-09 12:50:00   2.10      12680.0          France     12   \n",
       "\n",
       "            Time  Year  Day  Quarter Day of Week  \n",
       "21      09:06:00  2009    1        4     Tuesday  \n",
       "27      09:06:00  2009    1        4     Tuesday  \n",
       "28      09:06:00  2009    1        4     Tuesday  \n",
       "29      09:06:00  2009    1        4     Tuesday  \n",
       "31      09:08:00  2009    1        4     Tuesday  \n",
       "...          ...   ...  ...      ...         ...  \n",
       "541898  12:50:00  2011    9        4      Friday  \n",
       "541899  12:50:00  2011    9        4      Friday  \n",
       "541900  12:50:00  2011    9        4      Friday  \n",
       "541901  12:50:00  2011    9        4      Friday  \n",
       "541905  12:50:00  2011    9        4      Friday  \n",
       "\n",
       "[536906 rows x 14 columns]"
      ]
     },
     "execution_count": 169,
     "metadata": {},
     "output_type": "execute_result"
    }
   ],
   "source": [
    "temp_data"
   ]
  },
  {
   "cell_type": "code",
   "execution_count": 170,
   "id": "e19d3c7c",
   "metadata": {},
   "outputs": [
    {
     "data": {
      "image/png": "[encoded data removed]",
      "text/plain": [
       "<Figure size 1152x864 with 5 Axes>"
      ]
     },
     "metadata": {},
     "output_type": "display_data"
    }
   ],
   "source": [
    "#Plotting the above data\n",
    "plt.figure(figsize=(16,12))\n",
    "plt.subplot(3,2,1)#if not used all plots will be represented in a single graph\n",
    "sns.lineplot(x = \"Month\", y = \"Quantity\", data = temp_data.groupby(\"Month\").sum(\"Quantity\"), marker = \"o\", color = \"lightseagreen\")\n",
    "plt.axvline(11, color = \"k\", linestyle = '--', alpha = 0.3)\n",
    "plt.text(8.50, 1.3e6, \"Most Transactions\")\n",
    "plt.title(\"Transactions by Month\")\n",
    "plt.subplot(3,2,2)\n",
    "temp_data.groupby(\"Year\").sum()[\"Quantity\"].plot(kind = \"bar\")\n",
    "plt.title(\"Transactions by Year\")\n",
    "plt.subplot(3,2,3)\n",
    "temp_data.groupby(\"Quarter\").sum()[\"Quantity\"].plot(kind = \"bar\", color = \"darkslategrey\")\n",
    "plt.title(\"Transactions by Quarter\")\n",
    "plt.subplot(3,2,4)\n",
    "sns.lineplot(x = \"Day\", y = \"Quantity\", data = temp_data.groupby(\"Day\").sum(\"Quantity\"), marker = \"o\", )\n",
    "plt.axvline(7, color = 'r', linestyle = '--')\n",
    "plt.axvline(15, color = 'k', linestyle = \"dotted\")\n",
    "plt.title(\"Transactions by Day\")\n",
    "plt.subplot(3,2,5)\n",
    "temp_data.groupby(\"Day of Week\").sum()[\"Quantity\"].plot(kind = \"bar\", color = \"darkorange\")\n",
    "plt.title(\"Transactions by Day of Week\")\n",
    "plt.tight_layout()\n",
    "plt.show()"
   ]
  },
  {
   "cell_type": "code",
   "execution_count": 446,
   "id": "24f22896",
   "metadata": {},
   "outputs": [
    {
     "data": {
      "text/plain": [
       "(5356, 5)"
      ]
     },
     "execution_count": 446,
     "metadata": {},
     "output_type": "execute_result"
    }
   ],
   "source": [
    "data[\"Total Amount\"] = data[\"Quantity\"]*data[\"Price\"]\n",
    "#calculating the recency, frequency, T, monetary_value\n",
    "summary = lifetimes.utils.summary_data_from_transaction_data(data, \"Customer ID\", \"InvoiceDate\", \"Total Amount\")\n",
    "summary = summary.reset_index() #resetting the index\n",
    "summary.shape"
   ]
  },
  {
   "cell_type": "code",
   "execution_count": 447,
   "id": "3e33fda3",
   "metadata": {},
   "outputs": [
    {
     "data": {
      "text/html": [
       "<div>\n",
       "<style scoped>\n",
       "    .dataframe tbody tr th:only-of-type {\n",
       "        vertical-align: middle;\n",
       "    }\n",
       "\n",
       "    .dataframe tbody tr th {\n",
       "        vertical-align: top;\n",
       "    }\n",
       "\n",
       "    .dataframe thead th {\n",
       "        text-align: right;\n",
       "    }\n",
       "</style>\n",
       "<table border=\"1\" class=\"dataframe\">\n",
       "  <thead>\n",
       "    <tr style=\"text-align: right;\">\n",
       "      <th></th>\n",
       "      <th>Customer ID</th>\n",
       "      <th>frequency</th>\n",
       "      <th>recency</th>\n",
       "      <th>T</th>\n",
       "      <th>monetary_value</th>\n",
       "    </tr>\n",
       "  </thead>\n",
       "  <tbody>\n",
       "    <tr>\n",
       "      <th>0</th>\n",
       "      <td>11111.0</td>\n",
       "      <td>541.0</td>\n",
       "      <td>738.0</td>\n",
       "      <td>738.0</td>\n",
       "      <td>1201.414621</td>\n",
       "    </tr>\n",
       "    <tr>\n",
       "      <th>1</th>\n",
       "      <td>12346.0</td>\n",
       "      <td>1.0</td>\n",
       "      <td>74.0</td>\n",
       "      <td>721.0</td>\n",
       "      <td>3.250000</td>\n",
       "    </tr>\n",
       "    <tr>\n",
       "      <th>2</th>\n",
       "      <td>12347.0</td>\n",
       "      <td>7.0</td>\n",
       "      <td>402.0</td>\n",
       "      <td>404.0</td>\n",
       "      <td>145.302857</td>\n",
       "    </tr>\n",
       "    <tr>\n",
       "      <th>3</th>\n",
       "      <td>12348.0</td>\n",
       "      <td>0.0</td>\n",
       "      <td>0.0</td>\n",
       "      <td>438.0</td>\n",
       "      <td>0.000000</td>\n",
       "    </tr>\n",
       "    <tr>\n",
       "      <th>4</th>\n",
       "      <td>12349.0</td>\n",
       "      <td>2.0</td>\n",
       "      <td>571.0</td>\n",
       "      <td>589.0</td>\n",
       "      <td>276.070000</td>\n",
       "    </tr>\n",
       "    <tr>\n",
       "      <th>...</th>\n",
       "      <td>...</td>\n",
       "      <td>...</td>\n",
       "      <td>...</td>\n",
       "      <td>...</td>\n",
       "      <td>...</td>\n",
       "    </tr>\n",
       "    <tr>\n",
       "      <th>5351</th>\n",
       "      <td>18283.0</td>\n",
       "      <td>18.0</td>\n",
       "      <td>655.0</td>\n",
       "      <td>658.0</td>\n",
       "      <td>125.905000</td>\n",
       "    </tr>\n",
       "    <tr>\n",
       "      <th>5352</th>\n",
       "      <td>18284.0</td>\n",
       "      <td>0.0</td>\n",
       "      <td>0.0</td>\n",
       "      <td>431.0</td>\n",
       "      <td>0.000000</td>\n",
       "    </tr>\n",
       "    <tr>\n",
       "      <th>5353</th>\n",
       "      <td>18285.0</td>\n",
       "      <td>0.0</td>\n",
       "      <td>0.0</td>\n",
       "      <td>660.0</td>\n",
       "      <td>0.000000</td>\n",
       "    </tr>\n",
       "    <tr>\n",
       "      <th>5354</th>\n",
       "      <td>18286.0</td>\n",
       "      <td>1.0</td>\n",
       "      <td>247.0</td>\n",
       "      <td>723.0</td>\n",
       "      <td>303.400000</td>\n",
       "    </tr>\n",
       "    <tr>\n",
       "      <th>5355</th>\n",
       "      <td>18287.0</td>\n",
       "      <td>4.0</td>\n",
       "      <td>513.0</td>\n",
       "      <td>571.0</td>\n",
       "      <td>53.100000</td>\n",
       "    </tr>\n",
       "  </tbody>\n",
       "</table>\n",
       "<p>5356 rows × 5 columns</p>\n",
       "</div>"
      ],
      "text/plain": [
       "      Customer ID  frequency  recency      T  monetary_value\n",
       "0         11111.0      541.0    738.0  738.0     1201.414621\n",
       "1         12346.0        1.0     74.0  721.0        3.250000\n",
       "2         12347.0        7.0    402.0  404.0      145.302857\n",
       "3         12348.0        0.0      0.0  438.0        0.000000\n",
       "4         12349.0        2.0    571.0  589.0      276.070000\n",
       "...           ...        ...      ...    ...             ...\n",
       "5351      18283.0       18.0    655.0  658.0      125.905000\n",
       "5352      18284.0        0.0      0.0  431.0        0.000000\n",
       "5353      18285.0        0.0      0.0  660.0        0.000000\n",
       "5354      18286.0        1.0    247.0  723.0      303.400000\n",
       "5355      18287.0        4.0    513.0  571.0       53.100000\n",
       "\n",
       "[5356 rows x 5 columns]"
      ]
     },
     "execution_count": 447,
     "metadata": {},
     "output_type": "execute_result"
    }
   ],
   "source": [
    "summary"
   ]
  },
  {
   "cell_type": "code",
   "execution_count": 448,
   "id": "fcf4d9aa",
   "metadata": {},
   "outputs": [
    {
     "name": "stdout",
     "output_type": "stream",
     "text": [
      "0\n"
     ]
    }
   ],
   "source": [
    "c=0\n",
    "for i in range(len(summary['monetary_value'])):\n",
    "    if(summary.iloc[i,4]<0):\n",
    "        summary.iloc[i,4]=0\n",
    "        c+=1\n",
    "print(c)\n",
    "summary['monetary_value'].dropna(inplace=True)"
   ]
  },
  {
   "cell_type": "code",
   "execution_count": 449,
   "id": "5a66406f",
   "metadata": {
    "scrolled": true
   },
   "outputs": [
    {
     "data": {
      "image/png": "[encoded data removed]",
      "text/plain": [
       "<Figure size 1152x360 with 4 Axes>"
      ]
     },
     "metadata": {},
     "output_type": "display_data"
    }
   ],
   "source": [
    "plt.figure(figsize=(16,5))\n",
    "plt.subplot(141)\n",
    "sns.stripplot(summary[\"frequency\"])\n",
    "plt.title(\"Frequency\")\n",
    "plt.subplot(142)\n",
    "sns.boxplot(summary[\"recency\"],color=\"red\")\n",
    "plt.title(\"Recency\")\n",
    "plt.subplot(143)\n",
    "sns.boxplot(summary[\"T\"])\n",
    "plt.title(\"T\")\n",
    "plt.subplot(144)\n",
    "sns.stripplot(summary[\"monetary_value\"], color = \"salmon\")\n",
    "plt.title(\"Monetary Value\")\n",
    "plt.tight_layout()"
   ]
  },
  {
   "cell_type": "code",
   "execution_count": 450,
   "id": "33fcfb22",
   "metadata": {},
   "outputs": [
    {
     "data": {
      "text/html": [
       "<div>\n",
       "<style scoped>\n",
       "    .dataframe tbody tr th:only-of-type {\n",
       "        vertical-align: middle;\n",
       "    }\n",
       "\n",
       "    .dataframe tbody tr th {\n",
       "        vertical-align: top;\n",
       "    }\n",
       "\n",
       "    .dataframe thead th {\n",
       "        text-align: right;\n",
       "    }\n",
       "</style>\n",
       "<table border=\"1\" class=\"dataframe\">\n",
       "  <thead>\n",
       "    <tr style=\"text-align: right;\">\n",
       "      <th></th>\n",
       "      <th>Customer ID</th>\n",
       "      <th>frequency</th>\n",
       "      <th>recency</th>\n",
       "      <th>T</th>\n",
       "      <th>monetary_value</th>\n",
       "    </tr>\n",
       "  </thead>\n",
       "  <tbody>\n",
       "    <tr>\n",
       "      <th>0</th>\n",
       "      <td>11111.0</td>\n",
       "      <td>541.0</td>\n",
       "      <td>738.0</td>\n",
       "      <td>738.0</td>\n",
       "      <td>1201.414621</td>\n",
       "    </tr>\n",
       "    <tr>\n",
       "      <th>1</th>\n",
       "      <td>12346.0</td>\n",
       "      <td>1.0</td>\n",
       "      <td>74.0</td>\n",
       "      <td>721.0</td>\n",
       "      <td>3.250000</td>\n",
       "    </tr>\n",
       "  </tbody>\n",
       "</table>\n",
       "</div>"
      ],
      "text/plain": [
       "   Customer ID  frequency  recency      T  monetary_value\n",
       "0      11111.0      541.0    738.0  738.0     1201.414621\n",
       "1      12346.0        1.0     74.0  721.0        3.250000"
      ]
     },
     "execution_count": 450,
     "metadata": {},
     "output_type": "execute_result"
    }
   ],
   "source": [
    "#applying the classification model\n",
    "summary_bgf = summary.copy()\n",
    "summary_bgf.head(2)"
   ]
  },
  {
   "cell_type": "code",
   "execution_count": 451,
   "id": "ae3b3810",
   "metadata": {},
   "outputs": [
    {
     "name": "stdout",
     "output_type": "stream",
     "text": [
      "count    5356.00000\n",
      "mean        4.01755\n",
      "std        11.38225\n",
      "min         0.00000\n",
      "25%         0.00000\n",
      "50%         1.00000\n",
      "75%         5.00000\n",
      "max       541.00000\n",
      "Name: frequency, dtype: float64\n",
      "Percentage of customers purchase the item only once : 31.42 %\n"
     ]
    },
    {
     "data": {
      "image/png": "[encoded data removed]",
      "text/plain": [
       "<Figure size 432x288 with 1 Axes>"
      ]
     },
     "metadata": {},
     "output_type": "display_data"
    }
   ],
   "source": [
    "#Create a distribution of frequency to understand the customer frequency level\n",
    "summary_bgf['frequency'].plot(kind='hist',bins=50)\n",
    "print(summary_bgf['frequency'].describe())\n",
    "one_time_buyers=round(sum(summary['frequency']==0)/float(len(summary))*(100),2)\n",
    "print(\"Percentage of customers purchase the item only once :\", one_time_buyers,\"%\")"
   ]
  },
  {
   "cell_type": "code",
   "execution_count": 452,
   "id": "ddba036f",
   "metadata": {},
   "outputs": [
    {
     "data": {
      "text/plain": [
       "<lifetimes.BetaGeoFitter: fitted with 5356 subjects, a: 0.02, alpha: 58.22, b: 0.21, r: 0.53>"
      ]
     },
     "execution_count": 452,
     "metadata": {},
     "output_type": "execute_result"
    }
   ],
   "source": [
    "#Fitting the BG/NBD model\n",
    "#generally there r different models to calculate the CLV.\n",
    "#here we use the BETAGEO(BG) model for CLV calculation.\n",
    "bgf=lifetimes.BetaGeoFitter(penalizer_coef=0.1)\n",
    "bgf.fit(summary_bgf['frequency'],summary_bgf['recency'],summary_bgf['T'])"
   ]
  },
  {
   "cell_type": "code",
   "execution_count": 453,
   "id": "96e3358f",
   "metadata": {},
   "outputs": [
    {
     "data": {
      "text/html": [
       "<div>\n",
       "<style scoped>\n",
       "    .dataframe tbody tr th:only-of-type {\n",
       "        vertical-align: middle;\n",
       "    }\n",
       "\n",
       "    .dataframe tbody tr th {\n",
       "        vertical-align: top;\n",
       "    }\n",
       "\n",
       "    .dataframe thead th {\n",
       "        text-align: right;\n",
       "    }\n",
       "</style>\n",
       "<table border=\"1\" class=\"dataframe\">\n",
       "  <thead>\n",
       "    <tr style=\"text-align: right;\">\n",
       "      <th></th>\n",
       "      <th>coef</th>\n",
       "      <th>se(coef)</th>\n",
       "      <th>lower 95% bound</th>\n",
       "      <th>upper 95% bound</th>\n",
       "    </tr>\n",
       "  </thead>\n",
       "  <tbody>\n",
       "    <tr>\n",
       "      <th>r</th>\n",
       "      <td>0.530936</td>\n",
       "      <td>0.011611</td>\n",
       "      <td>0.508178</td>\n",
       "      <td>0.553693</td>\n",
       "    </tr>\n",
       "    <tr>\n",
       "      <th>alpha</th>\n",
       "      <td>58.220936</td>\n",
       "      <td>1.813158</td>\n",
       "      <td>54.667148</td>\n",
       "      <td>61.774725</td>\n",
       "    </tr>\n",
       "    <tr>\n",
       "      <th>a</th>\n",
       "      <td>0.018580</td>\n",
       "      <td>0.002429</td>\n",
       "      <td>0.013819</td>\n",
       "      <td>0.023342</td>\n",
       "    </tr>\n",
       "    <tr>\n",
       "      <th>b</th>\n",
       "      <td>0.206523</td>\n",
       "      <td>0.020688</td>\n",
       "      <td>0.165975</td>\n",
       "      <td>0.247071</td>\n",
       "    </tr>\n",
       "  </tbody>\n",
       "</table>\n",
       "</div>"
      ],
      "text/plain": [
       "            coef  se(coef)  lower 95% bound  upper 95% bound\n",
       "r       0.530936  0.011611         0.508178         0.553693\n",
       "alpha  58.220936  1.813158        54.667148        61.774725\n",
       "a       0.018580  0.002429         0.013819         0.023342\n",
       "b       0.206523  0.020688         0.165975         0.247071"
      ]
     },
     "execution_count": 453,
     "metadata": {},
     "output_type": "execute_result"
    }
   ],
   "source": [
    "#Model summary\n",
    "bgf.summary"
   ]
  },
  {
   "cell_type": "code",
   "execution_count": 454,
   "id": "0e9729f4",
   "metadata": {},
   "outputs": [
    {
     "data": {
      "text/html": [
       "<div>\n",
       "<style scoped>\n",
       "    .dataframe tbody tr th:only-of-type {\n",
       "        vertical-align: middle;\n",
       "    }\n",
       "\n",
       "    .dataframe tbody tr th {\n",
       "        vertical-align: top;\n",
       "    }\n",
       "\n",
       "    .dataframe thead th {\n",
       "        text-align: right;\n",
       "    }\n",
       "</style>\n",
       "<table border=\"1\" class=\"dataframe\">\n",
       "  <thead>\n",
       "    <tr style=\"text-align: right;\">\n",
       "      <th></th>\n",
       "      <th>Customer ID</th>\n",
       "      <th>frequency</th>\n",
       "      <th>recency</th>\n",
       "      <th>T</th>\n",
       "      <th>monetary_value</th>\n",
       "      <th>probability_alive</th>\n",
       "    </tr>\n",
       "  </thead>\n",
       "  <tbody>\n",
       "    <tr>\n",
       "      <th>0</th>\n",
       "      <td>11111.0</td>\n",
       "      <td>541.0</td>\n",
       "      <td>738.0</td>\n",
       "      <td>738.0</td>\n",
       "      <td>1201.414621</td>\n",
       "      <td>0.999966</td>\n",
       "    </tr>\n",
       "    <tr>\n",
       "      <th>1</th>\n",
       "      <td>12346.0</td>\n",
       "      <td>1.0</td>\n",
       "      <td>74.0</td>\n",
       "      <td>721.0</td>\n",
       "      <td>3.250000</td>\n",
       "      <td>0.423775</td>\n",
       "    </tr>\n",
       "    <tr>\n",
       "      <th>2</th>\n",
       "      <td>12347.0</td>\n",
       "      <td>7.0</td>\n",
       "      <td>402.0</td>\n",
       "      <td>404.0</td>\n",
       "      <td>145.302857</td>\n",
       "      <td>0.996916</td>\n",
       "    </tr>\n",
       "    <tr>\n",
       "      <th>3</th>\n",
       "      <td>12348.0</td>\n",
       "      <td>0.0</td>\n",
       "      <td>0.0</td>\n",
       "      <td>438.0</td>\n",
       "      <td>0.000000</td>\n",
       "      <td>1.000000</td>\n",
       "    </tr>\n",
       "    <tr>\n",
       "      <th>4</th>\n",
       "      <td>12349.0</td>\n",
       "      <td>2.0</td>\n",
       "      <td>571.0</td>\n",
       "      <td>589.0</td>\n",
       "      <td>276.070000</td>\n",
       "      <td>0.983730</td>\n",
       "    </tr>\n",
       "    <tr>\n",
       "      <th>5</th>\n",
       "      <td>12350.0</td>\n",
       "      <td>0.0</td>\n",
       "      <td>0.0</td>\n",
       "      <td>310.0</td>\n",
       "      <td>0.000000</td>\n",
       "      <td>1.000000</td>\n",
       "    </tr>\n",
       "    <tr>\n",
       "      <th>6</th>\n",
       "      <td>12351.0</td>\n",
       "      <td>0.0</td>\n",
       "      <td>0.0</td>\n",
       "      <td>375.0</td>\n",
       "      <td>0.000000</td>\n",
       "      <td>1.000000</td>\n",
       "    </tr>\n",
       "    <tr>\n",
       "      <th>7</th>\n",
       "      <td>12352.0</td>\n",
       "      <td>7.0</td>\n",
       "      <td>356.0</td>\n",
       "      <td>392.0</td>\n",
       "      <td>38.490000</td>\n",
       "      <td>0.994424</td>\n",
       "    </tr>\n",
       "    <tr>\n",
       "      <th>8</th>\n",
       "      <td>12353.0</td>\n",
       "      <td>1.0</td>\n",
       "      <td>204.0</td>\n",
       "      <td>408.0</td>\n",
       "      <td>29.300000</td>\n",
       "      <td>0.821611</td>\n",
       "    </tr>\n",
       "    <tr>\n",
       "      <th>9</th>\n",
       "      <td>12354.0</td>\n",
       "      <td>0.0</td>\n",
       "      <td>0.0</td>\n",
       "      <td>232.0</td>\n",
       "      <td>0.000000</td>\n",
       "      <td>1.000000</td>\n",
       "    </tr>\n",
       "  </tbody>\n",
       "</table>\n",
       "</div>"
      ],
      "text/plain": [
       "   Customer ID  frequency  recency      T  monetary_value  probability_alive\n",
       "0      11111.0      541.0    738.0  738.0     1201.414621           0.999966\n",
       "1      12346.0        1.0     74.0  721.0        3.250000           0.423775\n",
       "2      12347.0        7.0    402.0  404.0      145.302857           0.996916\n",
       "3      12348.0        0.0      0.0  438.0        0.000000           1.000000\n",
       "4      12349.0        2.0    571.0  589.0      276.070000           0.983730\n",
       "5      12350.0        0.0      0.0  310.0        0.000000           1.000000\n",
       "6      12351.0        0.0      0.0  375.0        0.000000           1.000000\n",
       "7      12352.0        7.0    356.0  392.0       38.490000           0.994424\n",
       "8      12353.0        1.0    204.0  408.0       29.300000           0.821611\n",
       "9      12354.0        0.0      0.0  232.0        0.000000           1.000000"
      ]
     },
     "execution_count": 454,
     "metadata": {},
     "output_type": "execute_result"
    }
   ],
   "source": [
    "#Compute the customer alive probability\n",
    "#prob(whether our customer is alive or not).\n",
    "summary_bgf['probability_alive']=bgf.conditional_probability_alive(summary['frequency'],summary['recency'],summary['T'])\n",
    "summary_bgf.head(10)"
   ]
  },
  {
   "cell_type": "code",
   "execution_count": 455,
   "id": "b2c5d957",
   "metadata": {},
   "outputs": [
    {
     "data": {
      "text/plain": [
       "<AxesSubplot:title={'center':'Probability Customer is Alive,\\nby Frequency and Recency of a Customer'}, xlabel=\"Customer's Historical Frequency\", ylabel=\"Customer's Recency\">"
      ]
     },
     "execution_count": 455,
     "metadata": {},
     "output_type": "execute_result"
    },
    {
     "data": {
      "image/png": "[encoded data removed]",
      "text/plain": [
       "<Figure size 864x576 with 2 Axes>"
      ]
     },
     "metadata": {},
     "output_type": "display_data"
    }
   ],
   "source": [
    "#Visual representation of relationship between recency and frequency\n",
    "from lifetimes.plotting import plot_probability_alive_matrix\n",
    "\n",
    "fig=plt.figure(figsize =(12,8))\n",
    "plot_probability_alive_matrix(bgf)"
   ]
  },
  {
   "cell_type": "code",
   "execution_count": 456,
   "id": "43745351",
   "metadata": {},
   "outputs": [
    {
     "data": {
      "text/html": [
       "<div>\n",
       "<style scoped>\n",
       "    .dataframe tbody tr th:only-of-type {\n",
       "        vertical-align: middle;\n",
       "    }\n",
       "\n",
       "    .dataframe tbody tr th {\n",
       "        vertical-align: top;\n",
       "    }\n",
       "\n",
       "    .dataframe thead th {\n",
       "        text-align: right;\n",
       "    }\n",
       "</style>\n",
       "<table border=\"1\" class=\"dataframe\">\n",
       "  <thead>\n",
       "    <tr style=\"text-align: right;\">\n",
       "      <th></th>\n",
       "      <th>index</th>\n",
       "      <th>Customer ID</th>\n",
       "      <th>frequency</th>\n",
       "      <th>recency</th>\n",
       "      <th>T</th>\n",
       "      <th>monetary_value</th>\n",
       "      <th>probability_alive</th>\n",
       "      <th>pred_num_txn</th>\n",
       "    </tr>\n",
       "  </thead>\n",
       "  <tbody>\n",
       "    <tr>\n",
       "      <th>0</th>\n",
       "      <td>0</td>\n",
       "      <td>11111.0</td>\n",
       "      <td>541.0</td>\n",
       "      <td>738.0</td>\n",
       "      <td>738.0</td>\n",
       "      <td>1201.414621</td>\n",
       "      <td>0.999966</td>\n",
       "      <td>247.0</td>\n",
       "    </tr>\n",
       "    <tr>\n",
       "      <th>1</th>\n",
       "      <td>2305</td>\n",
       "      <td>14911.0</td>\n",
       "      <td>235.0</td>\n",
       "      <td>737.0</td>\n",
       "      <td>738.0</td>\n",
       "      <td>187.095915</td>\n",
       "      <td>0.999893</td>\n",
       "      <td>108.0</td>\n",
       "    </tr>\n",
       "    <tr>\n",
       "      <th>2</th>\n",
       "      <td>4952</td>\n",
       "      <td>17841.0</td>\n",
       "      <td>192.0</td>\n",
       "      <td>736.0</td>\n",
       "      <td>737.0</td>\n",
       "      <td>170.819427</td>\n",
       "      <td>0.999876</td>\n",
       "      <td>88.0</td>\n",
       "    </tr>\n",
       "    <tr>\n",
       "      <th>3</th>\n",
       "      <td>2671</td>\n",
       "      <td>15311.0</td>\n",
       "      <td>191.0</td>\n",
       "      <td>738.0</td>\n",
       "      <td>738.0</td>\n",
       "      <td>56.833455</td>\n",
       "      <td>0.999902</td>\n",
       "      <td>87.0</td>\n",
       "    </tr>\n",
       "    <tr>\n",
       "      <th>4</th>\n",
       "      <td>2032</td>\n",
       "      <td>14606.0</td>\n",
       "      <td>176.0</td>\n",
       "      <td>735.0</td>\n",
       "      <td>736.0</td>\n",
       "      <td>80.965852</td>\n",
       "      <td>0.999868</td>\n",
       "      <td>81.0</td>\n",
       "    </tr>\n",
       "    <tr>\n",
       "      <th>...</th>\n",
       "      <td>...</td>\n",
       "      <td>...</td>\n",
       "      <td>...</td>\n",
       "      <td>...</td>\n",
       "      <td>...</td>\n",
       "      <td>...</td>\n",
       "      <td>...</td>\n",
       "      <td>...</td>\n",
       "    </tr>\n",
       "    <tr>\n",
       "      <th>4995</th>\n",
       "      <td>1047</td>\n",
       "      <td>13522.0</td>\n",
       "      <td>0.0</td>\n",
       "      <td>0.0</td>\n",
       "      <td>30.0</td>\n",
       "      <td>0.000000</td>\n",
       "      <td>1.000000</td>\n",
       "      <td>NaN</td>\n",
       "    </tr>\n",
       "    <tr>\n",
       "      <th>4996</th>\n",
       "      <td>1055</td>\n",
       "      <td>13532.0</td>\n",
       "      <td>0.0</td>\n",
       "      <td>0.0</td>\n",
       "      <td>33.0</td>\n",
       "      <td>0.000000</td>\n",
       "      <td>1.000000</td>\n",
       "      <td>NaN</td>\n",
       "    </tr>\n",
       "    <tr>\n",
       "      <th>4997</th>\n",
       "      <td>1079</td>\n",
       "      <td>13560.0</td>\n",
       "      <td>0.0</td>\n",
       "      <td>0.0</td>\n",
       "      <td>7.0</td>\n",
       "      <td>0.000000</td>\n",
       "      <td>1.000000</td>\n",
       "      <td>NaN</td>\n",
       "    </tr>\n",
       "    <tr>\n",
       "      <th>4998</th>\n",
       "      <td>1087</td>\n",
       "      <td>13568.0</td>\n",
       "      <td>0.0</td>\n",
       "      <td>0.0</td>\n",
       "      <td>173.0</td>\n",
       "      <td>0.000000</td>\n",
       "      <td>1.000000</td>\n",
       "      <td>NaN</td>\n",
       "    </tr>\n",
       "    <tr>\n",
       "      <th>4999</th>\n",
       "      <td>1122</td>\n",
       "      <td>13603.0</td>\n",
       "      <td>0.0</td>\n",
       "      <td>0.0</td>\n",
       "      <td>26.0</td>\n",
       "      <td>0.000000</td>\n",
       "      <td>1.000000</td>\n",
       "      <td>NaN</td>\n",
       "    </tr>\n",
       "  </tbody>\n",
       "</table>\n",
       "<p>5000 rows × 8 columns</p>\n",
       "</div>"
      ],
      "text/plain": [
       "      index  Customer ID  frequency  recency      T  monetary_value  \\\n",
       "0         0      11111.0      541.0    738.0  738.0     1201.414621   \n",
       "1      2305      14911.0      235.0    737.0  738.0      187.095915   \n",
       "2      4952      17841.0      192.0    736.0  737.0      170.819427   \n",
       "3      2671      15311.0      191.0    738.0  738.0       56.833455   \n",
       "4      2032      14606.0      176.0    735.0  736.0       80.965852   \n",
       "...     ...          ...        ...      ...    ...             ...   \n",
       "4995   1047      13522.0        0.0      0.0   30.0        0.000000   \n",
       "4996   1055      13532.0        0.0      0.0   33.0        0.000000   \n",
       "4997   1079      13560.0        0.0      0.0    7.0        0.000000   \n",
       "4998   1087      13568.0        0.0      0.0  173.0        0.000000   \n",
       "4999   1122      13603.0        0.0      0.0   26.0        0.000000   \n",
       "\n",
       "      probability_alive  pred_num_txn  \n",
       "0              0.999966         247.0  \n",
       "1              0.999893         108.0  \n",
       "2              0.999876          88.0  \n",
       "3              0.999902          87.0  \n",
       "4              0.999868          81.0  \n",
       "...                 ...           ...  \n",
       "4995           1.000000           NaN  \n",
       "4996           1.000000           NaN  \n",
       "4997           1.000000           NaN  \n",
       "4998           1.000000           NaN  \n",
       "4999           1.000000           NaN  \n",
       "\n",
       "[5000 rows x 8 columns]"
      ]
     },
     "execution_count": 456,
     "metadata": {},
     "output_type": "execute_result"
    }
   ],
   "source": [
    "# calculating the prediction of number of transactions for the next 30 days \n",
    "t=365\n",
    "summary_bgf['pred_num_txn']=round(bgf.conditional_expected_number_of_purchases_up_to_time(t,summary_bgf['frequency'],summary_bgf['recency'],summary_bgf['T']))\n",
    "summary_bgf.sort_values(by='pred_num_txn',ascending=False).head(5000).reset_index()"
   ]
  },
  {
   "cell_type": "code",
   "execution_count": 457,
   "id": "e3cab37b",
   "metadata": {},
   "outputs": [
    {
     "name": "stdout",
     "output_type": "stream",
     "text": [
      "(3673, 7)\n"
     ]
    },
    {
     "data": {
      "text/html": [
       "<div>\n",
       "<style scoped>\n",
       "    .dataframe tbody tr th:only-of-type {\n",
       "        vertical-align: middle;\n",
       "    }\n",
       "\n",
       "    .dataframe tbody tr th {\n",
       "        vertical-align: top;\n",
       "    }\n",
       "\n",
       "    .dataframe thead th {\n",
       "        text-align: right;\n",
       "    }\n",
       "</style>\n",
       "<table border=\"1\" class=\"dataframe\">\n",
       "  <thead>\n",
       "    <tr style=\"text-align: right;\">\n",
       "      <th></th>\n",
       "      <th>Customer ID</th>\n",
       "      <th>frequency</th>\n",
       "      <th>recency</th>\n",
       "      <th>T</th>\n",
       "      <th>monetary_value</th>\n",
       "      <th>probability_alive</th>\n",
       "      <th>pred_num_txn</th>\n",
       "    </tr>\n",
       "  </thead>\n",
       "  <tbody>\n",
       "    <tr>\n",
       "      <th>0</th>\n",
       "      <td>11111.0</td>\n",
       "      <td>541.0</td>\n",
       "      <td>738.0</td>\n",
       "      <td>738.0</td>\n",
       "      <td>1201.414621</td>\n",
       "      <td>0.999966</td>\n",
       "      <td>247.0</td>\n",
       "    </tr>\n",
       "    <tr>\n",
       "      <th>1</th>\n",
       "      <td>12346.0</td>\n",
       "      <td>1.0</td>\n",
       "      <td>74.0</td>\n",
       "      <td>721.0</td>\n",
       "      <td>3.250000</td>\n",
       "      <td>0.423775</td>\n",
       "      <td>0.0</td>\n",
       "    </tr>\n",
       "    <tr>\n",
       "      <th>2</th>\n",
       "      <td>12347.0</td>\n",
       "      <td>7.0</td>\n",
       "      <td>402.0</td>\n",
       "      <td>404.0</td>\n",
       "      <td>145.302857</td>\n",
       "      <td>0.996916</td>\n",
       "      <td>6.0</td>\n",
       "    </tr>\n",
       "    <tr>\n",
       "      <th>4</th>\n",
       "      <td>12349.0</td>\n",
       "      <td>2.0</td>\n",
       "      <td>571.0</td>\n",
       "      <td>589.0</td>\n",
       "      <td>276.070000</td>\n",
       "      <td>0.983730</td>\n",
       "      <td>1.0</td>\n",
       "    </tr>\n",
       "    <tr>\n",
       "      <th>7</th>\n",
       "      <td>12352.0</td>\n",
       "      <td>7.0</td>\n",
       "      <td>356.0</td>\n",
       "      <td>392.0</td>\n",
       "      <td>38.490000</td>\n",
       "      <td>0.994424</td>\n",
       "      <td>6.0</td>\n",
       "    </tr>\n",
       "  </tbody>\n",
       "</table>\n",
       "</div>"
      ],
      "text/plain": [
       "   Customer ID  frequency  recency      T  monetary_value  probability_alive  \\\n",
       "0      11111.0      541.0    738.0  738.0     1201.414621           0.999966   \n",
       "1      12346.0        1.0     74.0  721.0        3.250000           0.423775   \n",
       "2      12347.0        7.0    402.0  404.0      145.302857           0.996916   \n",
       "4      12349.0        2.0    571.0  589.0      276.070000           0.983730   \n",
       "7      12352.0        7.0    356.0  392.0       38.490000           0.994424   \n",
       "\n",
       "   pred_num_txn  \n",
       "0         247.0  \n",
       "1           0.0  \n",
       "2           6.0  \n",
       "4           1.0  \n",
       "7           6.0  "
      ]
     },
     "execution_count": 457,
     "metadata": {},
     "output_type": "execute_result"
    }
   ],
   "source": [
    "#Checking the relationship between frequency and monetary_value\n",
    "return_customers_summary = summary_bgf[summary_bgf['frequency']>0]\n",
    "return_customers_summary=return_customers_summary[return_customers_summary['monetary_value']>0]\n",
    "print(return_customers_summary.shape)\n",
    "return_customers_summary.head()"
   ]
  },
  {
   "cell_type": "code",
   "execution_count": 458,
   "id": "2d383902",
   "metadata": {},
   "outputs": [
    {
     "data": {
      "text/html": [
       "<div>\n",
       "<style scoped>\n",
       "    .dataframe tbody tr th:only-of-type {\n",
       "        vertical-align: middle;\n",
       "    }\n",
       "\n",
       "    .dataframe tbody tr th {\n",
       "        vertical-align: top;\n",
       "    }\n",
       "\n",
       "    .dataframe thead th {\n",
       "        text-align: right;\n",
       "    }\n",
       "</style>\n",
       "<table border=\"1\" class=\"dataframe\">\n",
       "  <thead>\n",
       "    <tr style=\"text-align: right;\">\n",
       "      <th></th>\n",
       "      <th>frequency</th>\n",
       "      <th>monetary_value</th>\n",
       "    </tr>\n",
       "  </thead>\n",
       "  <tbody>\n",
       "    <tr>\n",
       "      <th>frequency</th>\n",
       "      <td>1.000000</td>\n",
       "      <td>0.200039</td>\n",
       "    </tr>\n",
       "    <tr>\n",
       "      <th>monetary_value</th>\n",
       "      <td>0.200039</td>\n",
       "      <td>1.000000</td>\n",
       "    </tr>\n",
       "  </tbody>\n",
       "</table>\n",
       "</div>"
      ],
      "text/plain": [
       "                frequency  monetary_value\n",
       "frequency        1.000000        0.200039\n",
       "monetary_value   0.200039        1.000000"
      ]
     },
     "execution_count": 458,
     "metadata": {},
     "output_type": "execute_result"
    }
   ],
   "source": [
    "#Checking the relationship between frequency and monetary_value\n",
    "return_customers_summary[['frequency','monetary_value']].corr()"
   ]
  },
  {
   "cell_type": "code",
   "execution_count": 459,
   "id": "094acb23",
   "metadata": {},
   "outputs": [
    {
     "data": {
      "text/plain": [
       "<lifetimes.GammaGammaFitter: fitted with 3673 subjects, p: 1.56, q: 4.01, v: 217.07>"
      ]
     },
     "execution_count": 459,
     "metadata": {},
     "output_type": "execute_result"
    }
   ],
   "source": [
    "#Modeling the monetary value using Gamma-Gamma Model\n",
    "#where gamma-gamma model is a part of BG model.\n",
    "ggf=lifetimes.GammaGammaFitter(penalizer_coef=0.000)\n",
    "ggf.fit(return_customers_summary['frequency'],return_customers_summary['monetary_value'])"
   ]
  },
  {
   "cell_type": "code",
   "execution_count": 460,
   "id": "8ab264ec",
   "metadata": {},
   "outputs": [
    {
     "data": {
      "text/html": [
       "<div>\n",
       "<style scoped>\n",
       "    .dataframe tbody tr th:only-of-type {\n",
       "        vertical-align: middle;\n",
       "    }\n",
       "\n",
       "    .dataframe tbody tr th {\n",
       "        vertical-align: top;\n",
       "    }\n",
       "\n",
       "    .dataframe thead th {\n",
       "        text-align: right;\n",
       "    }\n",
       "</style>\n",
       "<table border=\"1\" class=\"dataframe\">\n",
       "  <thead>\n",
       "    <tr style=\"text-align: right;\">\n",
       "      <th></th>\n",
       "      <th>coef</th>\n",
       "      <th>se(coef)</th>\n",
       "      <th>lower 95% bound</th>\n",
       "      <th>upper 95% bound</th>\n",
       "    </tr>\n",
       "  </thead>\n",
       "  <tbody>\n",
       "    <tr>\n",
       "      <th>p</th>\n",
       "      <td>1.558833</td>\n",
       "      <td>0.073664</td>\n",
       "      <td>1.414451</td>\n",
       "      <td>1.703214</td>\n",
       "    </tr>\n",
       "    <tr>\n",
       "      <th>q</th>\n",
       "      <td>4.014999</td>\n",
       "      <td>0.171589</td>\n",
       "      <td>3.678683</td>\n",
       "      <td>4.351314</td>\n",
       "    </tr>\n",
       "    <tr>\n",
       "      <th>v</th>\n",
       "      <td>217.066398</td>\n",
       "      <td>19.124435</td>\n",
       "      <td>179.582506</td>\n",
       "      <td>254.550289</td>\n",
       "    </tr>\n",
       "  </tbody>\n",
       "</table>\n",
       "</div>"
      ],
      "text/plain": [
       "         coef   se(coef)  lower 95% bound  upper 95% bound\n",
       "p    1.558833   0.073664         1.414451         1.703214\n",
       "q    4.014999   0.171589         3.678683         4.351314\n",
       "v  217.066398  19.124435       179.582506       254.550289"
      ]
     },
     "execution_count": 460,
     "metadata": {},
     "output_type": "execute_result"
    }
   ],
   "source": [
    "#Summary of the fitted parameters\n",
    "ggf.summary"
   ]
  },
  {
   "cell_type": "code",
   "execution_count": 461,
   "id": "1a282ad9",
   "metadata": {},
   "outputs": [
    {
     "data": {
      "text/html": [
       "<div>\n",
       "<style scoped>\n",
       "    .dataframe tbody tr th:only-of-type {\n",
       "        vertical-align: middle;\n",
       "    }\n",
       "\n",
       "    .dataframe tbody tr th {\n",
       "        vertical-align: top;\n",
       "    }\n",
       "\n",
       "    .dataframe thead th {\n",
       "        text-align: right;\n",
       "    }\n",
       "</style>\n",
       "<table border=\"1\" class=\"dataframe\">\n",
       "  <thead>\n",
       "    <tr style=\"text-align: right;\">\n",
       "      <th></th>\n",
       "      <th>Customer ID</th>\n",
       "      <th>frequency</th>\n",
       "      <th>recency</th>\n",
       "      <th>T</th>\n",
       "      <th>monetary_value</th>\n",
       "      <th>probability_alive</th>\n",
       "      <th>pred_num_txn</th>\n",
       "      <th>exp_avg_sales</th>\n",
       "    </tr>\n",
       "  </thead>\n",
       "  <tbody>\n",
       "    <tr>\n",
       "      <th>0</th>\n",
       "      <td>11111.0</td>\n",
       "      <td>541.0</td>\n",
       "      <td>738.0</td>\n",
       "      <td>738.0</td>\n",
       "      <td>1201.414621</td>\n",
       "      <td>0.999966</td>\n",
       "      <td>247.0</td>\n",
       "      <td>1197.534526</td>\n",
       "    </tr>\n",
       "    <tr>\n",
       "      <th>1</th>\n",
       "      <td>12346.0</td>\n",
       "      <td>1.0</td>\n",
       "      <td>74.0</td>\n",
       "      <td>721.0</td>\n",
       "      <td>3.250000</td>\n",
       "      <td>0.423775</td>\n",
       "      <td>0.0</td>\n",
       "      <td>75.087245</td>\n",
       "    </tr>\n",
       "    <tr>\n",
       "      <th>2</th>\n",
       "      <td>12347.0</td>\n",
       "      <td>7.0</td>\n",
       "      <td>402.0</td>\n",
       "      <td>404.0</td>\n",
       "      <td>145.302857</td>\n",
       "      <td>0.996916</td>\n",
       "      <td>6.0</td>\n",
       "      <td>138.142739</td>\n",
       "    </tr>\n",
       "    <tr>\n",
       "      <th>4</th>\n",
       "      <td>12349.0</td>\n",
       "      <td>2.0</td>\n",
       "      <td>571.0</td>\n",
       "      <td>589.0</td>\n",
       "      <td>276.070000</td>\n",
       "      <td>0.983730</td>\n",
       "      <td>1.0</td>\n",
       "      <td>195.520911</td>\n",
       "    </tr>\n",
       "    <tr>\n",
       "      <th>7</th>\n",
       "      <td>12352.0</td>\n",
       "      <td>7.0</td>\n",
       "      <td>356.0</td>\n",
       "      <td>392.0</td>\n",
       "      <td>38.490000</td>\n",
       "      <td>0.994424</td>\n",
       "      <td>6.0</td>\n",
       "      <td>54.453642</td>\n",
       "    </tr>\n",
       "  </tbody>\n",
       "</table>\n",
       "</div>"
      ],
      "text/plain": [
       "   Customer ID  frequency  recency      T  monetary_value  probability_alive  \\\n",
       "0      11111.0      541.0    738.0  738.0     1201.414621           0.999966   \n",
       "1      12346.0        1.0     74.0  721.0        3.250000           0.423775   \n",
       "2      12347.0        7.0    402.0  404.0      145.302857           0.996916   \n",
       "4      12349.0        2.0    571.0  589.0      276.070000           0.983730   \n",
       "7      12352.0        7.0    356.0  392.0       38.490000           0.994424   \n",
       "\n",
       "   pred_num_txn  exp_avg_sales  \n",
       "0         247.0    1197.534526  \n",
       "1           0.0      75.087245  \n",
       "2           6.0     138.142739  \n",
       "4           1.0     195.520911  \n",
       "7           6.0      54.453642  "
      ]
     },
     "execution_count": 461,
     "metadata": {},
     "output_type": "execute_result"
    }
   ],
   "source": [
    "#Calculating the conditional expected average profit for each customer per transaction\n",
    "summary_bgf = summary_bgf[summary_bgf['monetary_value']>0]\n",
    "summary_bgf['exp_avg_sales']=ggf.conditional_expected_average_profit(summary_bgf['frequency'],summary_bgf['monetary_value'])\n",
    "summary_bgf.head()"
   ]
  },
  {
   "cell_type": "code",
   "execution_count": 462,
   "id": "b71ff9f8",
   "metadata": {},
   "outputs": [
    {
     "name": "stdout",
     "output_type": "stream",
     "text": [
      "Expected Average Sales: 111.11173540774855\n",
      "Actual Average Sales: 105.87995915604048\n"
     ]
    }
   ],
   "source": [
    "#Checking the expected average value and the actual average value in the data to make sure the values are good\n",
    "print(f\"Expected Average Sales: {summary_bgf['exp_avg_sales'].mean()}\")\n",
    "print(f\"Actual Average Sales: {summary_bgf['monetary_value'].mean()}\")"
   ]
  },
  {
   "cell_type": "code",
   "execution_count": 463,
   "id": "d2b80fe5",
   "metadata": {},
   "outputs": [
    {
     "data": {
      "text/html": [
       "<div>\n",
       "<style scoped>\n",
       "    .dataframe tbody tr th:only-of-type {\n",
       "        vertical-align: middle;\n",
       "    }\n",
       "\n",
       "    .dataframe tbody tr th {\n",
       "        vertical-align: top;\n",
       "    }\n",
       "\n",
       "    .dataframe thead th {\n",
       "        text-align: right;\n",
       "    }\n",
       "</style>\n",
       "<table border=\"1\" class=\"dataframe\">\n",
       "  <thead>\n",
       "    <tr style=\"text-align: right;\">\n",
       "      <th></th>\n",
       "      <th>Customer ID</th>\n",
       "      <th>frequency</th>\n",
       "      <th>recency</th>\n",
       "      <th>T</th>\n",
       "      <th>monetary_value</th>\n",
       "      <th>probability_alive</th>\n",
       "      <th>pred_num_txn</th>\n",
       "      <th>exp_avg_sales</th>\n",
       "      <th>predicted_clv</th>\n",
       "    </tr>\n",
       "  </thead>\n",
       "  <tbody>\n",
       "    <tr>\n",
       "      <th>0</th>\n",
       "      <td>11111.0</td>\n",
       "      <td>541.0</td>\n",
       "      <td>738.0</td>\n",
       "      <td>738.0</td>\n",
       "      <td>1201.414621</td>\n",
       "      <td>0.999966</td>\n",
       "      <td>247.0</td>\n",
       "      <td>1197.534526</td>\n",
       "      <td>24183.111160</td>\n",
       "    </tr>\n",
       "    <tr>\n",
       "      <th>1</th>\n",
       "      <td>12346.0</td>\n",
       "      <td>1.0</td>\n",
       "      <td>74.0</td>\n",
       "      <td>721.0</td>\n",
       "      <td>3.250000</td>\n",
       "      <td>0.423775</td>\n",
       "      <td>0.0</td>\n",
       "      <td>75.087245</td>\n",
       "      <td>1.855596</td>\n",
       "    </tr>\n",
       "    <tr>\n",
       "      <th>2</th>\n",
       "      <td>12347.0</td>\n",
       "      <td>7.0</td>\n",
       "      <td>402.0</td>\n",
       "      <td>404.0</td>\n",
       "      <td>145.302857</td>\n",
       "      <td>0.996916</td>\n",
       "      <td>6.0</td>\n",
       "      <td>138.142739</td>\n",
       "      <td>66.601553</td>\n",
       "    </tr>\n",
       "    <tr>\n",
       "      <th>4</th>\n",
       "      <td>12349.0</td>\n",
       "      <td>2.0</td>\n",
       "      <td>571.0</td>\n",
       "      <td>589.0</td>\n",
       "      <td>276.070000</td>\n",
       "      <td>0.983730</td>\n",
       "      <td>1.0</td>\n",
       "      <td>195.520911</td>\n",
       "      <td>22.325795</td>\n",
       "    </tr>\n",
       "    <tr>\n",
       "      <th>7</th>\n",
       "      <td>12352.0</td>\n",
       "      <td>7.0</td>\n",
       "      <td>356.0</td>\n",
       "      <td>392.0</td>\n",
       "      <td>38.490000</td>\n",
       "      <td>0.994424</td>\n",
       "      <td>6.0</td>\n",
       "      <td>54.453642</td>\n",
       "      <td>26.885121</td>\n",
       "    </tr>\n",
       "  </tbody>\n",
       "</table>\n",
       "</div>"
      ],
      "text/plain": [
       "   Customer ID  frequency  recency      T  monetary_value  probability_alive  \\\n",
       "0      11111.0      541.0    738.0  738.0     1201.414621           0.999966   \n",
       "1      12346.0        1.0     74.0  721.0        3.250000           0.423775   \n",
       "2      12347.0        7.0    402.0  404.0      145.302857           0.996916   \n",
       "4      12349.0        2.0    571.0  589.0      276.070000           0.983730   \n",
       "7      12352.0        7.0    356.0  392.0       38.490000           0.994424   \n",
       "\n",
       "   pred_num_txn  exp_avg_sales  predicted_clv  \n",
       "0         247.0    1197.534526   24183.111160  \n",
       "1           0.0      75.087245       1.855596  \n",
       "2           6.0     138.142739      66.601553  \n",
       "4           1.0     195.520911      22.325795  \n",
       "7           6.0      54.453642      26.885121  "
      ]
     },
     "execution_count": 463,
     "metadata": {},
     "output_type": "execute_result"
    }
   ],
   "source": [
    "#Predicting Customer Lifetime Value for the next 30 days\n",
    "summary_bgf['predicted_clv']= ggf.customer_lifetime_value(bgf,summary_bgf['frequency'],summary_bgf['recency'],summary_bgf['T'],summary_bgf['monetary_value'],time=1,freq='D',discount_rate=0.01)\n",
    "summary_bgf.head()"
   ]
  },
  {
   "cell_type": "code",
   "execution_count": 464,
   "id": "e1a55c24",
   "metadata": {},
   "outputs": [
    {
     "data": {
      "text/html": [
       "<div>\n",
       "<style scoped>\n",
       "    .dataframe tbody tr th:only-of-type {\n",
       "        vertical-align: middle;\n",
       "    }\n",
       "\n",
       "    .dataframe tbody tr th {\n",
       "        vertical-align: top;\n",
       "    }\n",
       "\n",
       "    .dataframe thead th {\n",
       "        text-align: right;\n",
       "    }\n",
       "</style>\n",
       "<table border=\"1\" class=\"dataframe\">\n",
       "  <thead>\n",
       "    <tr style=\"text-align: right;\">\n",
       "      <th></th>\n",
       "      <th>Customer ID</th>\n",
       "      <th>frequency</th>\n",
       "      <th>recency</th>\n",
       "      <th>T</th>\n",
       "      <th>monetary_value</th>\n",
       "      <th>probability_alive</th>\n",
       "      <th>pred_num_txn</th>\n",
       "      <th>exp_avg_sales</th>\n",
       "      <th>predicted_clv</th>\n",
       "      <th>CLV</th>\n",
       "    </tr>\n",
       "  </thead>\n",
       "  <tbody>\n",
       "    <tr>\n",
       "      <th>0</th>\n",
       "      <td>11111.0</td>\n",
       "      <td>541.0</td>\n",
       "      <td>738.0</td>\n",
       "      <td>738.0</td>\n",
       "      <td>1201.414621</td>\n",
       "      <td>0.999966</td>\n",
       "      <td>247.0</td>\n",
       "      <td>1197.534526</td>\n",
       "      <td>24183.111160</td>\n",
       "      <td>1209.155558</td>\n",
       "    </tr>\n",
       "    <tr>\n",
       "      <th>1</th>\n",
       "      <td>12346.0</td>\n",
       "      <td>1.0</td>\n",
       "      <td>74.0</td>\n",
       "      <td>721.0</td>\n",
       "      <td>3.250000</td>\n",
       "      <td>0.423775</td>\n",
       "      <td>0.0</td>\n",
       "      <td>75.087245</td>\n",
       "      <td>1.855596</td>\n",
       "      <td>0.092780</td>\n",
       "    </tr>\n",
       "    <tr>\n",
       "      <th>2</th>\n",
       "      <td>12347.0</td>\n",
       "      <td>7.0</td>\n",
       "      <td>402.0</td>\n",
       "      <td>404.0</td>\n",
       "      <td>145.302857</td>\n",
       "      <td>0.996916</td>\n",
       "      <td>6.0</td>\n",
       "      <td>138.142739</td>\n",
       "      <td>66.601553</td>\n",
       "      <td>3.330078</td>\n",
       "    </tr>\n",
       "    <tr>\n",
       "      <th>4</th>\n",
       "      <td>12349.0</td>\n",
       "      <td>2.0</td>\n",
       "      <td>571.0</td>\n",
       "      <td>589.0</td>\n",
       "      <td>276.070000</td>\n",
       "      <td>0.983730</td>\n",
       "      <td>1.0</td>\n",
       "      <td>195.520911</td>\n",
       "      <td>22.325795</td>\n",
       "      <td>1.116290</td>\n",
       "    </tr>\n",
       "    <tr>\n",
       "      <th>7</th>\n",
       "      <td>12352.0</td>\n",
       "      <td>7.0</td>\n",
       "      <td>356.0</td>\n",
       "      <td>392.0</td>\n",
       "      <td>38.490000</td>\n",
       "      <td>0.994424</td>\n",
       "      <td>6.0</td>\n",
       "      <td>54.453642</td>\n",
       "      <td>26.885121</td>\n",
       "      <td>1.344256</td>\n",
       "    </tr>\n",
       "  </tbody>\n",
       "</table>\n",
       "</div>"
      ],
      "text/plain": [
       "   Customer ID  frequency  recency      T  monetary_value  probability_alive  \\\n",
       "0      11111.0      541.0    738.0  738.0     1201.414621           0.999966   \n",
       "1      12346.0        1.0     74.0  721.0        3.250000           0.423775   \n",
       "2      12347.0        7.0    402.0  404.0      145.302857           0.996916   \n",
       "4      12349.0        2.0    571.0  589.0      276.070000           0.983730   \n",
       "7      12352.0        7.0    356.0  392.0       38.490000           0.994424   \n",
       "\n",
       "   pred_num_txn  exp_avg_sales  predicted_clv          CLV  \n",
       "0         247.0    1197.534526   24183.111160  1209.155558  \n",
       "1           0.0      75.087245       1.855596     0.092780  \n",
       "2           6.0     138.142739      66.601553     3.330078  \n",
       "4           1.0     195.520911      22.325795     1.116290  \n",
       "7           6.0      54.453642      26.885121     1.344256  "
      ]
     },
     "execution_count": 464,
     "metadata": {},
     "output_type": "execute_result"
    }
   ],
   "source": [
    "#CLV in terms of profit (profit margin is 5%)\n",
    "profit_margin=0.05\n",
    "summary_bgf['CLV']=summary_bgf['predicted_clv']*profit_margin\n",
    "summary_bgf.head()"
   ]
  },
  {
   "cell_type": "code",
   "execution_count": 465,
   "id": "ff5e9477",
   "metadata": {},
   "outputs": [
    {
     "data": {
      "text/plain": [
       "count    3.673000e+03\n",
       "mean     2.147584e+00\n",
       "std      2.035643e+01\n",
       "min      4.561417e-09\n",
       "25%      4.862263e-01\n",
       "50%      9.701759e-01\n",
       "75%      2.060000e+00\n",
       "max      1.209156e+03\n",
       "Name: CLV, dtype: float64"
      ]
     },
     "execution_count": 465,
     "metadata": {},
     "output_type": "execute_result"
    }
   ],
   "source": [
    "#Distribution of CLV for the business in the next 1 year\n",
    "summary_bgf['CLV'].describe()"
   ]
  },
  {
   "cell_type": "code",
   "execution_count": 466,
   "id": "89e54e94",
   "metadata": {},
   "outputs": [],
   "source": [
    "k=summary_bgf['Customer ID'].groupby(summary_bgf['CLV'])"
   ]
  },
  {
   "cell_type": "code",
   "execution_count": 467,
   "id": "a2f288b9",
   "metadata": {},
   "outputs": [
    {
     "name": "stdout",
     "output_type": "stream",
     "text": [
      "      Customer ID  frequency  recency      T  monetary_value  \\\n",
      "0         11111.0      541.0    738.0  738.0     1201.414621   \n",
      "1         12346.0        1.0     74.0  721.0        3.250000   \n",
      "2         12347.0        7.0    402.0  404.0      145.302857   \n",
      "4         12349.0        2.0    571.0  589.0      276.070000   \n",
      "7         12352.0        7.0    356.0  392.0       38.490000   \n",
      "...           ...        ...      ...    ...             ...   \n",
      "5349      18281.0        1.0    397.0  577.0       31.800000   \n",
      "5350      18282.0        1.0    119.0  126.0       30.700000   \n",
      "5351      18283.0       18.0    655.0  658.0      125.905000   \n",
      "5354      18286.0        1.0    247.0  723.0      303.400000   \n",
      "5355      18287.0        4.0    513.0  571.0       53.100000   \n",
      "\n",
      "      probability_alive  pred_num_txn  exp_avg_sales  predicted_clv  \\\n",
      "0              0.999966         247.0    1197.534526   24183.111160   \n",
      "1              0.423775           0.0      75.087245       1.855596   \n",
      "2              0.996916           6.0     138.142739      66.601553   \n",
      "4              0.983730           1.0     195.520911      22.325795   \n",
      "7              0.994424           6.0      54.453642      26.885121   \n",
      "...                 ...           ...            ...            ...   \n",
      "5349           0.869690           1.0      84.817528       5.275916   \n",
      "5350           0.912855           3.0      84.442631      18.972700   \n",
      "5351           0.998834           9.0     124.578063      95.588739   \n",
      "5354           0.725021           1.0     177.383020       7.480516   \n",
      "5355           0.991099           3.0      72.372153      15.332970   \n",
      "\n",
      "              CLV  \n",
      "0     1209.155558  \n",
      "1        0.092780  \n",
      "2        3.330078  \n",
      "4        1.116290  \n",
      "7        1.344256  \n",
      "...           ...  \n",
      "5349     0.263796  \n",
      "5350     0.948635  \n",
      "5351     4.779437  \n",
      "5354     0.374026  \n",
      "5355     0.766648  \n",
      "\n",
      "[3673 rows x 10 columns]\n"
     ]
    }
   ],
   "source": [
    "print(summary_bgf)"
   ]
  },
  {
   "cell_type": "code",
   "execution_count": 468,
   "id": "f1c8e5bb",
   "metadata": {},
   "outputs": [
    {
     "name": "stdout",
     "output_type": "stream",
     "text": [
      "0.9701758554595337\n"
     ]
    }
   ],
   "source": [
    "print(summary_bgf['CLV'].median())#represents the Q2.\n",
    "summary_bgf1=summary_bgf.copy()"
   ]
  },
  {
   "cell_type": "code",
   "execution_count": 469,
   "id": "1873fb5e",
   "metadata": {},
   "outputs": [],
   "source": [
    "import scipy.stats as stats\n",
    "#find Q1, Q3, and interquartile range for each column to remove the outliers for good avg.\n",
    "Q1 = summary_bgf['CLV'].quantile(q=.25)\n",
    "Q3 = summary_bgf['CLV'].quantile(q=.75)\n",
    "IQR = summary_bgf['CLV'].apply(stats.iqr)\n",
    "\n",
    "#only keep rows in dataframe that have values within 1.5*IQR of Q1 and Q3\n",
    "#summary_bgf['CLV'] = summary_bgf['CLV'][~((summary_bgf['CLV'] < (Q1-1.5*IQR)) | (summary_bgf['CLV'] > (Q3+1.5*IQR)))]"
   ]
  },
  {
   "cell_type": "code",
   "execution_count": 470,
   "id": "8a9cf317",
   "metadata": {},
   "outputs": [
    {
     "name": "stdout",
     "output_type": "stream",
     "text": [
      "4.0175504107542945\n"
     ]
    }
   ],
   "source": [
    "clv=np.mean(summary['frequency'])\n",
    "print(clv)\n",
    "summary_bgf['CLV'].fillna(clv,axis=0,inplace=True)"
   ]
  },
  {
   "cell_type": "code",
   "execution_count": 490,
   "id": "ac526154",
   "metadata": {},
   "outputs": [
    {
     "name": "stdout",
     "output_type": "stream",
     "text": [
      "2.060000333526933\n"
     ]
    }
   ],
   "source": [
    "# creating a column LABEL to represent the clv range as following.\n",
    "m=max(Q3+1.5*IQR)\n",
    "print(m)\n",
    "summary_bgf['Label']=\"low\"\n",
    "l=summary_bgf['CLV'].tolist()\n",
    "for i in range(len(summary_bgf1['Customer ID'])):\n",
    "    if(summary_bgf.iloc[i,9] <= m * 0.2):\n",
    "        summary_bgf.iloc[i,10]=\"low\"\n",
    "    elif(summary_bgf.iloc[i,9] >= m * 0.9 ):\n",
    "        summary_bgf.iloc[i,10]=\"high\"\n",
    "    else:\n",
    "        summary_bgf.iloc[i,10]=\"medium\""
   ]
  },
  {
   "cell_type": "code",
   "execution_count": 491,
   "id": "86acc407",
   "metadata": {},
   "outputs": [
    {
     "name": "stdout",
     "output_type": "stream",
     "text": [
      "    Customer ID  frequency  recency      T  monetary_value  probability_alive  \\\n",
      "0       11111.0      541.0    738.0  738.0     1201.414621           0.999966   \n",
      "1       12346.0        1.0     74.0  721.0        3.250000           0.423775   \n",
      "2       12347.0        7.0    402.0  404.0      145.302857           0.996916   \n",
      "4       12349.0        2.0    571.0  589.0      276.070000           0.983730   \n",
      "7       12352.0        7.0    356.0  392.0       38.490000           0.994424   \n",
      "8       12353.0        1.0    204.0  408.0       29.300000           0.821611   \n",
      "10      12355.0        1.0    353.0  567.0       53.100000           0.854070   \n",
      "11      12356.0        3.0    179.0  424.0       50.770000           0.906547   \n",
      "12      12357.0        1.0    355.0  388.0      167.100000           0.908103   \n",
      "13      12358.0        3.0    581.0  731.0       61.333333           0.982583   \n",
      "14      12359.0        8.0    677.0  734.0      212.836250           0.995149   \n",
      "15      12360.0        5.0    603.0  655.0      236.862000           0.993331   \n",
      "16      12361.0        3.0    395.0  682.0       78.016667           0.954562   \n",
      "17      12362.0        9.0    292.0  295.0      158.770000           0.997550   \n",
      "18      12364.0        1.0    105.0  112.0       17.700000           0.912458   \n",
      "22      12369.0        2.0    228.0  641.0      198.760000           0.871329   \n",
      "23      12370.0        5.0    617.0  668.0      191.250000           0.993436   \n",
      "24      12371.0        2.0    586.0  645.0      382.450000           0.981139   \n",
      "25      12372.0        1.0    225.0  296.0       44.400000           0.887539   \n",
      "26      12373.0        2.0    362.0  673.0      123.000000           0.941112   \n",
      "27      12374.0        1.0    396.0  421.0      118.350000           0.911031   \n",
      "28      12375.0        1.0     88.0   98.0       41.600000           0.909458   \n",
      "30      12377.0        3.0    274.0  589.0      165.000000           0.918515   \n",
      "31      12378.0        1.0    433.0  562.0     1102.960000           0.886081   \n",
      "32      12379.0        3.0    453.0  534.0      183.946667           0.986043   \n",
      "33      12380.0        6.0    641.0  662.0      232.140000           0.995689   \n",
      "34      12381.0        1.0     86.0  119.0       81.940000           0.890207   \n",
      "35      12383.0        2.0     82.0  352.0      122.940000           0.810996   \n",
      "36      12384.0        1.0     93.0  121.0       63.280000           0.895504   \n",
      "39      12388.0        6.0    507.0  582.0       71.910000           0.992012   \n",
      "40      12389.0        2.0    253.0  655.0       71.100000           0.888402   \n",
      "42      12391.0        3.0    641.0  662.0      213.553333           0.990739   \n",
      "43      12393.0        5.0    356.0  428.0      118.200000           0.989396   \n",
      "45      12395.0       13.0    583.0  602.0       83.121538           0.997745   \n",
      "47      12397.0        1.0    100.0  135.0      331.480000           0.891133   \n",
      "49      12399.0        4.0    431.0  644.0       79.437500           0.971061   \n",
      "52      12402.0        5.0    347.0  670.0      113.320000           0.898458   \n",
      "54      12406.0        4.0    675.0  697.0       46.650000           0.993419   \n",
      "55      12407.0        3.0    215.0  264.0       52.416667           0.985147   \n",
      "56      12408.0        6.0    466.0  498.0      148.615000           0.994773   \n",
      "58      12410.0        1.0    194.0  502.0       57.900000           0.766130   \n",
      "60      12412.0        3.0    370.0  539.0       58.700000           0.973468   \n",
      "61      12413.0        3.0    336.0  402.0       90.383333           0.985663   \n",
      "62      12415.0        4.0    384.0  527.0       45.562500           0.979794   \n",
      "63      12417.0       19.0    730.0  733.0       77.843158           0.998902   \n",
      "64      12418.0        3.0    518.0  630.0       59.816667           0.984479   \n",
      "67      12421.0        5.0    490.0  505.0       63.028000           0.994898   \n",
      "68      12422.0       11.0    626.0  721.0      105.277273           0.991914   \n",
      "69      12423.0        9.0    465.0  465.0       80.313333           0.997741   \n",
      "70      12424.0        1.0    260.0  422.0       59.400000           0.855491   \n",
      "\n",
      "    pred_num_txn  exp_avg_sales  predicted_clv          CLV   Label  \n",
      "0          247.0    1197.534526   24183.111160  1209.155558    high  \n",
      "1            0.0      75.087245       1.855596     0.092780     low  \n",
      "2            6.0     138.142739      66.601553     3.330078    high  \n",
      "4            1.0     195.520911      22.325795     1.116290  medium  \n",
      "7            6.0      54.453642      26.885121     1.344256  medium  \n",
      "8            1.0      83.965489       6.720679     0.336034     low  \n",
      "10           1.0      92.076898       5.714489     0.285724     low  \n",
      "11           2.0      74.861372      14.748523     0.737426  medium  \n",
      "12           1.0     130.929866      12.101501     0.605075  medium  \n",
      "13           2.0      81.283972      10.608488     0.530424  medium  \n",
      "14           4.0     193.248397      61.486471     3.074324    high  \n",
      "15           3.0     202.098118      46.219158     2.310958    high  \n",
      "16           2.0      91.427586      12.359018     0.617951  medium  \n",
      "17          10.0     150.537361     120.251037     6.012552    high  \n",
      "18           3.0      80.012029      19.443080     0.972154  medium  \n",
      "22           1.0     156.218789      14.625560     0.731278  medium  \n",
      "23           3.0     169.208670      38.009072     1.900454    high  \n",
      "24           1.0     249.601362      26.163680     1.308184  medium  \n",
      "25           1.0      89.111803      10.137466     0.506873  medium  \n",
      "26           1.0     117.704642      11.381761     0.569088  medium  \n",
      "27           1.0     114.315110       9.870803     0.493540  medium  \n",
      "28           3.0      88.157520      23.259615     1.162981  medium  \n",
      "30           2.0     144.314222      21.467170     1.073358  medium  \n",
      "31           1.0     449.885468      29.200667     1.460033  medium  \n",
      "32           2.0     155.833963      27.194628     1.359731  medium  \n",
      "33           3.0     202.908777      54.391886     2.719594    high  \n",
      "34           3.0     101.906017      23.207849     1.160392  medium  \n",
      "35           2.0     117.674140      17.470693     0.873535  medium  \n",
      "36           3.0      95.546400      21.645394     1.082270  medium  \n",
      "39           4.0      81.738726      24.556459     1.227823  medium  \n",
      "40           1.0      91.320215       8.546125     0.427306  medium  \n",
      "42           2.0     173.835078      25.066200     1.253310  medium  \n",
      "43           4.0     116.534500      38.930137     1.946507    high  \n",
      "45           7.0      86.891278      52.751663     2.637583    high  \n",
      "47           3.0     186.953119      39.100262     1.955013    high  \n",
      "49           2.0      90.125361      16.764319     0.838216  medium  \n",
      "52           2.0     113.015678      22.896418     1.144821  medium  \n",
      "54           2.0      68.024428      12.036619     0.601831  medium  \n",
      "55           4.0      75.862560      24.297258     1.214863  medium  \n",
      "56           4.0     139.745022      48.454072     2.422704    high  \n",
      "58           1.0      93.712813       5.821898     0.291095     low  \n",
      "60           2.0      79.682882      13.613278     0.680664  medium  \n",
      "61           3.0      98.946629      22.207189     1.110359  medium  \n",
      "62           3.0      67.291382      15.152944     0.757647  medium  \n",
      "63           9.0      81.020118      59.317077     2.965854    high  \n",
      "64           2.0      80.361825      12.049680     0.602484  medium  \n",
      "67           4.0      76.751622      22.259878     1.112994  medium  \n",
      "68           5.0     106.316812      46.334960     2.316748    high  \n",
      "69           7.0      85.958887      46.376757     2.318838    high  \n",
      "70           1.0      94.224036       7.624097     0.381205     low  \n"
     ]
    }
   ],
   "source": [
    "print(summary_bgf.head(50))"
   ]
  },
  {
   "cell_type": "code",
   "execution_count": 492,
   "id": "cbbca48b",
   "metadata": {},
   "outputs": [
    {
     "data": {
      "text/plain": [
       "Text(0.5, 1.0, 'future 1 year customer lifetime value')"
      ]
     },
     "execution_count": 492,
     "metadata": {},
     "output_type": "execute_result"
    },
    {
     "data": {
      "image/png": "[encoded data removed]",
      "text/plain": [
       "<Figure size 432x288 with 1 Axes>"
      ]
     },
     "metadata": {},
     "output_type": "display_data"
    }
   ],
   "source": [
    "#FINAL RESULT TO PREDICT THE 1 year ANALYSIS.\n",
    "plt.pie(summary_bgf['Customer ID'].groupby(summary_bgf['Label']).sum(),autopct='%1.1f%%')\n",
    "plt.legend(['high','low','medium'])\n",
    "plt.title(\"future 1 year customer lifetime value\")"
   ]
  },
  {
   "cell_type": "code",
   "execution_count": 493,
   "id": "8d940aae",
   "metadata": {},
   "outputs": [
    {
     "data": {
      "text/plain": [
       "[<matplotlib.lines.Line2D at 0x243817a0af0>]"
      ]
     },
     "execution_count": 493,
     "metadata": {},
     "output_type": "execute_result"
    },
    {
     "data": {
      "image/png": "[encoded data removed]",
      "text/plain": [
       "<Figure size 432x288 with 1 Axes>"
      ]
     },
     "metadata": {},
     "output_type": "display_data"
    }
   ],
   "source": [
    "plt.plot(summary_bgf['Customer ID'].groupby(summary_bgf['Label']).sum())"
   ]
  },
  {
   "cell_type": "code",
   "execution_count": 494,
   "id": "c6f14628",
   "metadata": {},
   "outputs": [
    {
     "data": {
      "image/png": "[encoded data removed]",
      "text/plain": [
       "<Figure size 1152x360 with 3 Axes>"
      ]
     },
     "metadata": {},
     "output_type": "display_data"
    }
   ],
   "source": [
    "plt.figure(figsize=(16,5))\n",
    "plt.subplot(141)\n",
    "sns.stripplot(summary_bgf[\"pred_num_txn\"])\n",
    "plt.title(\"pred_num_txn\")\n",
    "plt.subplot(142)\n",
    "sns.stripplot(summary_bgf[\"exp_avg_sales\"],color=\"red\")\n",
    "plt.title(\"excepted avgerage sales\")\n",
    "plt.subplot(143)\n",
    "sns.stripplot(summary_bgf[\"predicted_clv\"])\n",
    "plt.title(\"predicted clv\")\n",
    "plt.tight_layout()"
   ]
  },
  {
   "cell_type": "code",
   "execution_count": null,
   "id": "1d4bf714",
   "metadata": {},
   "outputs": [],
   "source": []
  }
 ],
 "metadata": {
  "kernelspec": {
   "display_name": "Python 3",
   "language": "python",
   "name": "python3"
  },
  "language_info": {
   "codemirror_mode": {
    "name": "ipython",
    "version": 3
   },
   "file_extension": ".py",
   "mimetype": "text/x-python",
   "name": "python",
   "nbconvert_exporter": "python",
   "pygments_lexer": "ipython3",
   "version": "3.8.8"
  }
 },
 "nbformat": 4,
 "nbformat_minor": 5
}
